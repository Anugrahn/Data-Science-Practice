{
 "cells": [
  {
   "cell_type": "code",
   "execution_count": 1,
   "metadata": {
    "ExecuteTime": {
     "end_time": "2020-08-04T06:18:46.388171Z",
     "start_time": "2020-08-04T06:18:43.930809Z"
    }
   },
   "outputs": [],
   "source": [
    "import pandas as pd\n",
    "import numpy as np \n",
    "import seaborn as sns \n",
    "import warnings\n",
    "warnings.filterwarnings('ignore')"
   ]
  },
  {
   "cell_type": "code",
   "execution_count": 2,
   "metadata": {
    "ExecuteTime": {
     "end_time": "2020-08-04T06:18:46.829369Z",
     "start_time": "2020-08-04T06:18:46.390171Z"
    }
   },
   "outputs": [],
   "source": [
    "apr = pd.read_excel(\"Order April.xls\")\n",
    "jul = pd.read_excel(\"Order July.xls\")\n",
    "jun = pd.read_excel(\"Order June.xls\")\n",
    "may = pd.read_excel(\"Order May.xls\")\n",
    "mar = pd.read_excel(\"Orer March.xls\")"
   ]
  },
  {
   "cell_type": "markdown",
   "metadata": {},
   "source": [
    "### Data yg di ambil adalah\n",
    "- No Pesanan\n",
    "- Status Pesanan\n",
    "- Nama Produk \n",
    "- Nama Variasi\n",
    "- Harga setelah diskon \n",
    "- Jumlah\n",
    "- Potongan koin Shopee\n",
    "- Ongkos kirim Dibayar Oleh Pembeli\n",
    "- Total Pembayaran\n",
    "- Username\n",
    "- Kota/Kabupaten\n",
    "- Waktu Pembayaran Dilakukan\n",
    "- Waktu Pesanan Dibuat"
   ]
  },
  {
   "cell_type": "code",
   "execution_count": 3,
   "metadata": {
    "ExecuteTime": {
     "end_time": "2020-08-04T06:18:46.861387Z",
     "start_time": "2020-08-04T06:18:46.832369Z"
    },
    "scrolled": true
   },
   "outputs": [],
   "source": [
    "frames = [mar,apr,may,jun,jul]\n",
    "df = pd.concat(frames)"
   ]
  },
  {
   "cell_type": "code",
   "execution_count": 4,
   "metadata": {
    "ExecuteTime": {
     "end_time": "2020-08-04T06:18:46.867377Z",
     "start_time": "2020-08-04T06:18:46.863376Z"
    }
   },
   "outputs": [],
   "source": [
    "df.reset_index(drop=True,inplace=True)"
   ]
  },
  {
   "cell_type": "code",
   "execution_count": 5,
   "metadata": {
    "ExecuteTime": {
     "end_time": "2020-08-04T06:18:46.885391Z",
     "start_time": "2020-08-04T06:18:46.869378Z"
    }
   },
   "outputs": [],
   "source": [
    "df = df[['No. Pesanan','Status Pesanan', 'Nama Produk', 'Nama Variasi', \n",
    "    'Harga Setelah Diskon', 'Jumlah', 'Potongan Koin Shopee', 'Ongkos Kirim Dibayar oleh Pembeli', 'Total Pembayaran',\n",
    "        'Username (Pembeli)', 'Kota/Kabupaten']]"
   ]
  },
  {
   "cell_type": "code",
   "execution_count": 6,
   "metadata": {
    "ExecuteTime": {
     "end_time": "2020-08-04T06:18:46.902385Z",
     "start_time": "2020-08-04T06:18:46.887381Z"
    },
    "scrolled": false
   },
   "outputs": [
    {
     "name": "stdout",
     "output_type": "stream",
     "text": [
      "<class 'pandas.core.frame.DataFrame'>\n",
      "RangeIndex: 4646 entries, 0 to 4645\n",
      "Data columns (total 11 columns):\n",
      " #   Column                             Non-Null Count  Dtype  \n",
      "---  ------                             --------------  -----  \n",
      " 0   No. Pesanan                        1256 non-null   object \n",
      " 1   Status Pesanan                     1256 non-null   object \n",
      " 2   Nama Produk                        4646 non-null   object \n",
      " 3   Nama Variasi                       3846 non-null   object \n",
      " 4   Harga Setelah Diskon               4646 non-null   object \n",
      " 5   Jumlah                             4646 non-null   int64  \n",
      " 6   Potongan Koin Shopee               1256 non-null   float64\n",
      " 7   Ongkos Kirim Dibayar oleh Pembeli  1256 non-null   object \n",
      " 8   Total Pembayaran                   1256 non-null   object \n",
      " 9   Username (Pembeli)                 1256 non-null   object \n",
      " 10  Kota/Kabupaten                     1256 non-null   object \n",
      "dtypes: float64(1), int64(1), object(9)\n",
      "memory usage: 399.4+ KB\n"
     ]
    }
   ],
   "source": [
    "df.info()"
   ]
  },
  {
   "cell_type": "code",
   "execution_count": 7,
   "metadata": {
    "ExecuteTime": {
     "end_time": "2020-08-04T06:18:46.933403Z",
     "start_time": "2020-08-04T06:18:46.904384Z"
    }
   },
   "outputs": [
    {
     "data": {
      "text/html": [
       "<div>\n",
       "<style scoped>\n",
       "    .dataframe tbody tr th:only-of-type {\n",
       "        vertical-align: middle;\n",
       "    }\n",
       "\n",
       "    .dataframe tbody tr th {\n",
       "        vertical-align: top;\n",
       "    }\n",
       "\n",
       "    .dataframe thead th {\n",
       "        text-align: right;\n",
       "    }\n",
       "</style>\n",
       "<table border=\"1\" class=\"dataframe\">\n",
       "  <thead>\n",
       "    <tr style=\"text-align: right;\">\n",
       "      <th></th>\n",
       "      <th>No. Pesanan</th>\n",
       "      <th>Status Pesanan</th>\n",
       "      <th>Nama Produk</th>\n",
       "      <th>Nama Variasi</th>\n",
       "      <th>Harga Setelah Diskon</th>\n",
       "      <th>Jumlah</th>\n",
       "      <th>Potongan Koin Shopee</th>\n",
       "      <th>Ongkos Kirim Dibayar oleh Pembeli</th>\n",
       "      <th>Total Pembayaran</th>\n",
       "      <th>Username (Pembeli)</th>\n",
       "      <th>Kota/Kabupaten</th>\n",
       "    </tr>\n",
       "  </thead>\n",
       "  <tbody>\n",
       "    <tr>\n",
       "      <th>0</th>\n",
       "      <td>200302R7G0BX8D</td>\n",
       "      <td>Selesai</td>\n",
       "      <td>Kanvas lukis anak / small canvas for kids / ka...</td>\n",
       "      <td>30x30</td>\n",
       "      <td>Rp 17.500</td>\n",
       "      <td>1</td>\n",
       "      <td>0.0</td>\n",
       "      <td>Rp 9.000</td>\n",
       "      <td>Rp 26.500</td>\n",
       "      <td>usako</td>\n",
       "      <td>KOTA JAKARTA BARAT</td>\n",
       "    </tr>\n",
       "    <tr>\n",
       "      <th>1</th>\n",
       "      <td>200302RM4QP8U8</td>\n",
       "      <td>Batal</td>\n",
       "      <td>Giotto super washable finger paint share in bo...</td>\n",
       "      <td>Merah,100ml</td>\n",
       "      <td>Rp 20.000</td>\n",
       "      <td>1</td>\n",
       "      <td>0.0</td>\n",
       "      <td>Rp 12.000</td>\n",
       "      <td>Rp 92.000</td>\n",
       "      <td>hannamargarethtampubolon</td>\n",
       "      <td>KOTA BANDUNG</td>\n",
       "    </tr>\n",
       "    <tr>\n",
       "      <th>2</th>\n",
       "      <td>NaN</td>\n",
       "      <td>NaN</td>\n",
       "      <td>Giotto super washable finger paint share in bo...</td>\n",
       "      <td>Kuning,100ml</td>\n",
       "      <td>Rp 20.000</td>\n",
       "      <td>1</td>\n",
       "      <td>NaN</td>\n",
       "      <td>NaN</td>\n",
       "      <td>NaN</td>\n",
       "      <td>NaN</td>\n",
       "      <td>NaN</td>\n",
       "    </tr>\n",
       "    <tr>\n",
       "      <th>3</th>\n",
       "      <td>NaN</td>\n",
       "      <td>NaN</td>\n",
       "      <td>Giotto super washable finger paint share in bo...</td>\n",
       "      <td>Biru,100ml</td>\n",
       "      <td>Rp 20.000</td>\n",
       "      <td>1</td>\n",
       "      <td>NaN</td>\n",
       "      <td>NaN</td>\n",
       "      <td>NaN</td>\n",
       "      <td>NaN</td>\n",
       "      <td>NaN</td>\n",
       "    </tr>\n",
       "    <tr>\n",
       "      <th>4</th>\n",
       "      <td>NaN</td>\n",
       "      <td>NaN</td>\n",
       "      <td>Giotto super washable finger paint share in bo...</td>\n",
       "      <td>Hijau,100ml</td>\n",
       "      <td>Rp 20.000</td>\n",
       "      <td>1</td>\n",
       "      <td>NaN</td>\n",
       "      <td>NaN</td>\n",
       "      <td>NaN</td>\n",
       "      <td>NaN</td>\n",
       "      <td>NaN</td>\n",
       "    </tr>\n",
       "    <tr>\n",
       "      <th>...</th>\n",
       "      <td>...</td>\n",
       "      <td>...</td>\n",
       "      <td>...</td>\n",
       "      <td>...</td>\n",
       "      <td>...</td>\n",
       "      <td>...</td>\n",
       "      <td>...</td>\n",
       "      <td>...</td>\n",
       "      <td>...</td>\n",
       "      <td>...</td>\n",
       "      <td>...</td>\n",
       "    </tr>\n",
       "    <tr>\n",
       "      <th>4641</th>\n",
       "      <td>NaN</td>\n",
       "      <td>NaN</td>\n",
       "      <td>Giant waterbeads sensory play hidrogel jumbo/ ...</td>\n",
       "      <td>Jumbo/giant,25 gram</td>\n",
       "      <td>Rp 13.000</td>\n",
       "      <td>1</td>\n",
       "      <td>NaN</td>\n",
       "      <td>NaN</td>\n",
       "      <td>NaN</td>\n",
       "      <td>NaN</td>\n",
       "      <td>NaN</td>\n",
       "    </tr>\n",
       "    <tr>\n",
       "      <th>4642</th>\n",
       "      <td>2007259YW67JHH</td>\n",
       "      <td>Selesai</td>\n",
       "      <td>Giant waterbeads sensory play hidrogel jumbo/ ...</td>\n",
       "      <td>Standar,25 gram</td>\n",
       "      <td>Rp 6.500</td>\n",
       "      <td>1</td>\n",
       "      <td>0.0</td>\n",
       "      <td>Rp 32.000</td>\n",
       "      <td>Rp 116.500</td>\n",
       "      <td>liftia10</td>\n",
       "      <td>KOTA JAKARTA SELATAN</td>\n",
       "    </tr>\n",
       "    <tr>\n",
       "      <th>4643</th>\n",
       "      <td>NaN</td>\n",
       "      <td>NaN</td>\n",
       "      <td>Giant waterbeads sensory play hidrogel jumbo/ ...</td>\n",
       "      <td>Jumbo/giant,25 gram</td>\n",
       "      <td>Rp 13.000</td>\n",
       "      <td>1</td>\n",
       "      <td>NaN</td>\n",
       "      <td>NaN</td>\n",
       "      <td>NaN</td>\n",
       "      <td>NaN</td>\n",
       "      <td>NaN</td>\n",
       "    </tr>\n",
       "    <tr>\n",
       "      <th>4644</th>\n",
       "      <td>NaN</td>\n",
       "      <td>NaN</td>\n",
       "      <td>Die cast metal construction figurine / mainan ...</td>\n",
       "      <td>B</td>\n",
       "      <td>Rp 35.000</td>\n",
       "      <td>1</td>\n",
       "      <td>NaN</td>\n",
       "      <td>NaN</td>\n",
       "      <td>NaN</td>\n",
       "      <td>NaN</td>\n",
       "      <td>NaN</td>\n",
       "    </tr>\n",
       "    <tr>\n",
       "      <th>4645</th>\n",
       "      <td>NaN</td>\n",
       "      <td>NaN</td>\n",
       "      <td>200 gram sensory rice rainbow rice / montessor...</td>\n",
       "      <td>1 paket @50gr</td>\n",
       "      <td>Rp 30.000</td>\n",
       "      <td>1</td>\n",
       "      <td>NaN</td>\n",
       "      <td>NaN</td>\n",
       "      <td>NaN</td>\n",
       "      <td>NaN</td>\n",
       "      <td>NaN</td>\n",
       "    </tr>\n",
       "  </tbody>\n",
       "</table>\n",
       "<p>4646 rows × 11 columns</p>\n",
       "</div>"
      ],
      "text/plain": [
       "         No. Pesanan Status Pesanan  \\\n",
       "0     200302R7G0BX8D        Selesai   \n",
       "1     200302RM4QP8U8          Batal   \n",
       "2                NaN            NaN   \n",
       "3                NaN            NaN   \n",
       "4                NaN            NaN   \n",
       "...              ...            ...   \n",
       "4641             NaN            NaN   \n",
       "4642  2007259YW67JHH        Selesai   \n",
       "4643             NaN            NaN   \n",
       "4644             NaN            NaN   \n",
       "4645             NaN            NaN   \n",
       "\n",
       "                                            Nama Produk         Nama Variasi  \\\n",
       "0     Kanvas lukis anak / small canvas for kids / ka...                30x30   \n",
       "1     Giotto super washable finger paint share in bo...          Merah,100ml   \n",
       "2     Giotto super washable finger paint share in bo...         Kuning,100ml   \n",
       "3     Giotto super washable finger paint share in bo...           Biru,100ml   \n",
       "4     Giotto super washable finger paint share in bo...          Hijau,100ml   \n",
       "...                                                 ...                  ...   \n",
       "4641  Giant waterbeads sensory play hidrogel jumbo/ ...  Jumbo/giant,25 gram   \n",
       "4642  Giant waterbeads sensory play hidrogel jumbo/ ...      Standar,25 gram   \n",
       "4643  Giant waterbeads sensory play hidrogel jumbo/ ...  Jumbo/giant,25 gram   \n",
       "4644  Die cast metal construction figurine / mainan ...                    B   \n",
       "4645  200 gram sensory rice rainbow rice / montessor...        1 paket @50gr   \n",
       "\n",
       "     Harga Setelah Diskon  Jumlah  Potongan Koin Shopee  \\\n",
       "0               Rp 17.500       1                   0.0   \n",
       "1               Rp 20.000       1                   0.0   \n",
       "2               Rp 20.000       1                   NaN   \n",
       "3               Rp 20.000       1                   NaN   \n",
       "4               Rp 20.000       1                   NaN   \n",
       "...                   ...     ...                   ...   \n",
       "4641            Rp 13.000       1                   NaN   \n",
       "4642             Rp 6.500       1                   0.0   \n",
       "4643            Rp 13.000       1                   NaN   \n",
       "4644            Rp 35.000       1                   NaN   \n",
       "4645            Rp 30.000       1                   NaN   \n",
       "\n",
       "     Ongkos Kirim Dibayar oleh Pembeli Total Pembayaran  \\\n",
       "0                             Rp 9.000        Rp 26.500   \n",
       "1                            Rp 12.000        Rp 92.000   \n",
       "2                                  NaN              NaN   \n",
       "3                                  NaN              NaN   \n",
       "4                                  NaN              NaN   \n",
       "...                                ...              ...   \n",
       "4641                               NaN              NaN   \n",
       "4642                         Rp 32.000       Rp 116.500   \n",
       "4643                               NaN              NaN   \n",
       "4644                               NaN              NaN   \n",
       "4645                               NaN              NaN   \n",
       "\n",
       "            Username (Pembeli)        Kota/Kabupaten  \n",
       "0                        usako    KOTA JAKARTA BARAT  \n",
       "1     hannamargarethtampubolon          KOTA BANDUNG  \n",
       "2                          NaN                   NaN  \n",
       "3                          NaN                   NaN  \n",
       "4                          NaN                   NaN  \n",
       "...                        ...                   ...  \n",
       "4641                       NaN                   NaN  \n",
       "4642                  liftia10  KOTA JAKARTA SELATAN  \n",
       "4643                       NaN                   NaN  \n",
       "4644                       NaN                   NaN  \n",
       "4645                       NaN                   NaN  \n",
       "\n",
       "[4646 rows x 11 columns]"
      ]
     },
     "execution_count": 7,
     "metadata": {},
     "output_type": "execute_result"
    }
   ],
   "source": [
    "df"
   ]
  },
  {
   "cell_type": "code",
   "execution_count": 8,
   "metadata": {
    "ExecuteTime": {
     "end_time": "2020-08-04T06:18:46.940407Z",
     "start_time": "2020-08-04T06:18:46.936394Z"
    }
   },
   "outputs": [],
   "source": [
    "x = df['Nama Produk'].loc[0]\n",
    "y = df['Nama Variasi'].loc[0]"
   ]
  },
  {
   "cell_type": "code",
   "execution_count": 9,
   "metadata": {
    "ExecuteTime": {
     "end_time": "2020-08-04T06:18:46.948395Z",
     "start_time": "2020-08-04T06:18:46.943406Z"
    }
   },
   "outputs": [
    {
     "data": {
      "text/plain": [
       "'Kanvas lukis 30x30'"
      ]
     },
     "execution_count": 9,
     "metadata": {},
     "output_type": "execute_result"
    }
   ],
   "source": [
    "x.split()[0] + ' ' +  x.split()[1] + ' ' + y"
   ]
  },
  {
   "cell_type": "code",
   "execution_count": 10,
   "metadata": {
    "ExecuteTime": {
     "end_time": "2020-08-04T06:18:46.964411Z",
     "start_time": "2020-08-04T06:18:46.950395Z"
    }
   },
   "outputs": [],
   "source": [
    "x = []\n",
    "for item in df['Nama Produk']:\n",
    "    splitan = item.split()[0] + ' ' +  item.split()[1]\n",
    "    x.append(splitan)"
   ]
  },
  {
   "cell_type": "code",
   "execution_count": 11,
   "metadata": {
    "ExecuteTime": {
     "end_time": "2020-08-04T06:18:46.970401Z",
     "start_time": "2020-08-04T06:18:46.966399Z"
    }
   },
   "outputs": [],
   "source": [
    "df['Nama Produk'] = x"
   ]
  },
  {
   "cell_type": "code",
   "execution_count": 12,
   "metadata": {
    "ExecuteTime": {
     "end_time": "2020-08-04T06:18:46.978402Z",
     "start_time": "2020-08-04T06:18:46.973401Z"
    }
   },
   "outputs": [
    {
     "data": {
      "text/plain": [
       "array(['Kanvas lukis', 'Giotto super', 'Giotto super', ...,\n",
       "       'Giant waterbeads', 'Die cast', '200 gram'], dtype=object)"
      ]
     },
     "execution_count": 12,
     "metadata": {},
     "output_type": "execute_result"
    }
   ],
   "source": [
    "df['Nama Produk'].values"
   ]
  },
  {
   "cell_type": "code",
   "execution_count": 13,
   "metadata": {
    "ExecuteTime": {
     "end_time": "2020-08-04T06:18:46.985404Z",
     "start_time": "2020-08-04T06:18:46.980406Z"
    }
   },
   "outputs": [],
   "source": [
    "x = df['Nama Produk'].values\n",
    "y = df['Nama Variasi']"
   ]
  },
  {
   "cell_type": "markdown",
   "metadata": {
    "ExecuteTime": {
     "end_time": "2020-07-31T09:31:36.545387Z",
     "start_time": "2020-07-31T09:31:36.541385Z"
    }
   },
   "source": [
    "## Ubah nama \n",
    "- Sensory rice --> Sensory Rice Ocean\n",
    "- 200 gram --> Sensory Rice 200 gram \n",
    "- 10 gram + Instant Snow --> Instant Snow\n",
    "- Sensory play + Giant Waterbeads + 50g 25g + 50g sensory + Kitsofhappiness - + 50g waterbeads --> Giant Waterbeads\n",
    "- Sponge brush + Roller sponge --> Sponge Brush"
   ]
  },
  {
   "cell_type": "code",
   "execution_count": 14,
   "metadata": {
    "ExecuteTime": {
     "end_time": "2020-08-04T06:18:46.995408Z",
     "start_time": "2020-08-04T06:18:46.987404Z"
    }
   },
   "outputs": [],
   "source": [
    "def applyProduk2(x):\n",
    "    if x == 'Sensory rice':\n",
    "        return 'Sensory Rice Ocean'\n",
    "    elif x == '200 gram':\n",
    "        return 'Sensory Rice 200 gram'\n",
    "    elif x == '10 gram':\n",
    "        return 'Instant snow'\n",
    "    elif x == 'Sensory play':\n",
    "        return 'Giant waterbeads'\n",
    "    elif x == '50g 25g':\n",
    "        return 'Giant waterbeads'\n",
    "    elif x == '50g sensory':\n",
    "        return 'Giant waterbeads'\n",
    "    elif x == 'Kitsofhappiness -':\n",
    "        return 'Giant waterbeads'\n",
    "    elif x == '50g waterbeads':\n",
    "        return 'Giant waterbeads'\n",
    "    elif x == 'Roller sponge':\n",
    "        return 'Sponge brush'\n",
    "    else :\n",
    "        return x"
   ]
  },
  {
   "cell_type": "code",
   "execution_count": 15,
   "metadata": {
    "ExecuteTime": {
     "end_time": "2020-08-04T06:18:47.003408Z",
     "start_time": "2020-08-04T06:18:46.997406Z"
    }
   },
   "outputs": [],
   "source": [
    "def applyProduk(x):\n",
    "    if x['Nama Produk'] == 'Sensory rice':\n",
    "        return 'Sensory Rice Ocean'\n",
    "    elif x['Nama Produk'] == '200 gram':\n",
    "        return 'Sensory Rice 200 gram'\n",
    "    elif x['Nama Produk'] == '10 gram':\n",
    "        return 'Instant snow'\n",
    "    elif x['Nama Produk'] == 'Sensory play':\n",
    "        return 'Giant waterbeads'\n",
    "    elif x['Nama Produk'] == '50g 25g':\n",
    "        return 'Giant waterbeads'\n",
    "    elif x['Nama Produk'] == '50g sensory':\n",
    "        return 'Giant waterbeads'\n",
    "    elif x['Nama Produk'] == 'Kitsofhappiness -':\n",
    "        return 'Giant waterbeads'\n",
    "    elif x['Nama Produk'] == '50g waterbeads':\n",
    "        return 'Giant waterbeads'\n",
    "    elif x['Nama Produk'] == 'Roller sponge':\n",
    "        return 'Sponge brush'\n",
    "    else :\n",
    "        return x"
   ]
  },
  {
   "cell_type": "code",
   "execution_count": 16,
   "metadata": {
    "ExecuteTime": {
     "end_time": "2020-08-04T06:18:47.016410Z",
     "start_time": "2020-08-04T06:18:47.005408Z"
    }
   },
   "outputs": [],
   "source": [
    "df['Nama Produk'] = df['Nama Produk'].apply(applyProduk2)"
   ]
  },
  {
   "cell_type": "code",
   "execution_count": 17,
   "metadata": {
    "ExecuteTime": {
     "end_time": "2020-08-04T06:18:47.026065Z",
     "start_time": "2020-08-04T06:18:47.018421Z"
    }
   },
   "outputs": [
    {
     "data": {
      "text/plain": [
       "Series([], Name: Nama Produk, dtype: int64)"
      ]
     },
     "execution_count": 17,
     "metadata": {},
     "output_type": "execute_result"
    }
   ],
   "source": [
    "df['Nama Produk'].value_counts()"
   ]
  },
  {
   "cell_type": "code",
   "execution_count": 18,
   "metadata": {
    "ExecuteTime": {
     "end_time": "2020-08-04T06:18:47.032067Z",
     "start_time": "2020-08-04T06:18:47.028065Z"
    }
   },
   "outputs": [],
   "source": [
    "df_new = df.copy()"
   ]
  },
  {
   "cell_type": "code",
   "execution_count": 19,
   "metadata": {
    "ExecuteTime": {
     "end_time": "2020-08-04T06:18:47.061072Z",
     "start_time": "2020-08-04T06:18:47.034055Z"
    },
    "scrolled": true
   },
   "outputs": [],
   "source": [
    "df_new['Waktu Pembayaran'] = pd.concat(frames)['Waktu Pembayaran Dilakukan'].values"
   ]
  },
  {
   "cell_type": "code",
   "execution_count": 20,
   "metadata": {
    "ExecuteTime": {
     "end_time": "2020-08-04T06:18:47.092080Z",
     "start_time": "2020-08-04T06:18:47.063073Z"
    }
   },
   "outputs": [],
   "source": [
    "df_new['Pesanan Dibuat'] = pd.concat(frames)['Waktu Pesanan Dibuat'].values"
   ]
  },
  {
   "cell_type": "code",
   "execution_count": 21,
   "metadata": {
    "ExecuteTime": {
     "end_time": "2020-08-04T06:18:47.128096Z",
     "start_time": "2020-08-04T06:18:47.093080Z"
    }
   },
   "outputs": [],
   "source": [
    "df_new.to_csv('Processing Data.csv')"
   ]
  },
  {
   "cell_type": "code",
   "execution_count": 23,
   "metadata": {
    "ExecuteTime": {
     "end_time": "2020-08-04T06:19:06.602822Z",
     "start_time": "2020-08-04T06:19:06.576816Z"
    }
   },
   "outputs": [
    {
     "data": {
      "text/html": [
       "<div>\n",
       "<style scoped>\n",
       "    .dataframe tbody tr th:only-of-type {\n",
       "        vertical-align: middle;\n",
       "    }\n",
       "\n",
       "    .dataframe tbody tr th {\n",
       "        vertical-align: top;\n",
       "    }\n",
       "\n",
       "    .dataframe thead th {\n",
       "        text-align: right;\n",
       "    }\n",
       "</style>\n",
       "<table border=\"1\" class=\"dataframe\">\n",
       "  <thead>\n",
       "    <tr style=\"text-align: right;\">\n",
       "      <th></th>\n",
       "      <th>No. Pesanan</th>\n",
       "      <th>Status Pesanan</th>\n",
       "      <th>Nama Produk</th>\n",
       "      <th>Nama Variasi</th>\n",
       "      <th>Harga Setelah Diskon</th>\n",
       "      <th>Jumlah</th>\n",
       "      <th>Potongan Koin Shopee</th>\n",
       "      <th>Ongkos Kirim Dibayar oleh Pembeli</th>\n",
       "      <th>Total Pembayaran</th>\n",
       "      <th>Username (Pembeli)</th>\n",
       "      <th>Kota/Kabupaten</th>\n",
       "      <th>Waktu Pembayaran</th>\n",
       "      <th>Pesanan Dibuat</th>\n",
       "    </tr>\n",
       "  </thead>\n",
       "  <tbody>\n",
       "    <tr>\n",
       "      <th>0</th>\n",
       "      <td>200302R7G0BX8D</td>\n",
       "      <td>Selesai</td>\n",
       "      <td>NaN</td>\n",
       "      <td>30x30</td>\n",
       "      <td>Rp 17.500</td>\n",
       "      <td>1</td>\n",
       "      <td>0.0</td>\n",
       "      <td>Rp 9.000</td>\n",
       "      <td>Rp 26.500</td>\n",
       "      <td>usako</td>\n",
       "      <td>KOTA JAKARTA BARAT</td>\n",
       "      <td>2020-03-02 14:18</td>\n",
       "      <td>2020-03-02 14:18</td>\n",
       "    </tr>\n",
       "    <tr>\n",
       "      <th>1</th>\n",
       "      <td>200302RM4QP8U8</td>\n",
       "      <td>Batal</td>\n",
       "      <td>NaN</td>\n",
       "      <td>Merah,100ml</td>\n",
       "      <td>Rp 20.000</td>\n",
       "      <td>1</td>\n",
       "      <td>0.0</td>\n",
       "      <td>Rp 12.000</td>\n",
       "      <td>Rp 92.000</td>\n",
       "      <td>hannamargarethtampubolon</td>\n",
       "      <td>KOTA BANDUNG</td>\n",
       "      <td>-</td>\n",
       "      <td>2020-03-02 18:04</td>\n",
       "    </tr>\n",
       "    <tr>\n",
       "      <th>2</th>\n",
       "      <td>NaN</td>\n",
       "      <td>NaN</td>\n",
       "      <td>NaN</td>\n",
       "      <td>Kuning,100ml</td>\n",
       "      <td>Rp 20.000</td>\n",
       "      <td>1</td>\n",
       "      <td>NaN</td>\n",
       "      <td>NaN</td>\n",
       "      <td>NaN</td>\n",
       "      <td>NaN</td>\n",
       "      <td>NaN</td>\n",
       "      <td>NaN</td>\n",
       "      <td>NaN</td>\n",
       "    </tr>\n",
       "    <tr>\n",
       "      <th>3</th>\n",
       "      <td>NaN</td>\n",
       "      <td>NaN</td>\n",
       "      <td>NaN</td>\n",
       "      <td>Biru,100ml</td>\n",
       "      <td>Rp 20.000</td>\n",
       "      <td>1</td>\n",
       "      <td>NaN</td>\n",
       "      <td>NaN</td>\n",
       "      <td>NaN</td>\n",
       "      <td>NaN</td>\n",
       "      <td>NaN</td>\n",
       "      <td>NaN</td>\n",
       "      <td>NaN</td>\n",
       "    </tr>\n",
       "    <tr>\n",
       "      <th>4</th>\n",
       "      <td>NaN</td>\n",
       "      <td>NaN</td>\n",
       "      <td>NaN</td>\n",
       "      <td>Hijau,100ml</td>\n",
       "      <td>Rp 20.000</td>\n",
       "      <td>1</td>\n",
       "      <td>NaN</td>\n",
       "      <td>NaN</td>\n",
       "      <td>NaN</td>\n",
       "      <td>NaN</td>\n",
       "      <td>NaN</td>\n",
       "      <td>NaN</td>\n",
       "      <td>NaN</td>\n",
       "    </tr>\n",
       "    <tr>\n",
       "      <th>...</th>\n",
       "      <td>...</td>\n",
       "      <td>...</td>\n",
       "      <td>...</td>\n",
       "      <td>...</td>\n",
       "      <td>...</td>\n",
       "      <td>...</td>\n",
       "      <td>...</td>\n",
       "      <td>...</td>\n",
       "      <td>...</td>\n",
       "      <td>...</td>\n",
       "      <td>...</td>\n",
       "      <td>...</td>\n",
       "      <td>...</td>\n",
       "    </tr>\n",
       "    <tr>\n",
       "      <th>4641</th>\n",
       "      <td>NaN</td>\n",
       "      <td>NaN</td>\n",
       "      <td>NaN</td>\n",
       "      <td>Jumbo/giant,25 gram</td>\n",
       "      <td>Rp 13.000</td>\n",
       "      <td>1</td>\n",
       "      <td>NaN</td>\n",
       "      <td>NaN</td>\n",
       "      <td>NaN</td>\n",
       "      <td>NaN</td>\n",
       "      <td>NaN</td>\n",
       "      <td>NaN</td>\n",
       "      <td>NaN</td>\n",
       "    </tr>\n",
       "    <tr>\n",
       "      <th>4642</th>\n",
       "      <td>2007259YW67JHH</td>\n",
       "      <td>Selesai</td>\n",
       "      <td>NaN</td>\n",
       "      <td>Standar,25 gram</td>\n",
       "      <td>Rp 6.500</td>\n",
       "      <td>1</td>\n",
       "      <td>0.0</td>\n",
       "      <td>Rp 32.000</td>\n",
       "      <td>Rp 116.500</td>\n",
       "      <td>liftia10</td>\n",
       "      <td>KOTA JAKARTA SELATAN</td>\n",
       "      <td>2020-07-25 09:33</td>\n",
       "      <td>2020-07-25 09:31</td>\n",
       "    </tr>\n",
       "    <tr>\n",
       "      <th>4643</th>\n",
       "      <td>NaN</td>\n",
       "      <td>NaN</td>\n",
       "      <td>NaN</td>\n",
       "      <td>Jumbo/giant,25 gram</td>\n",
       "      <td>Rp 13.000</td>\n",
       "      <td>1</td>\n",
       "      <td>NaN</td>\n",
       "      <td>NaN</td>\n",
       "      <td>NaN</td>\n",
       "      <td>NaN</td>\n",
       "      <td>NaN</td>\n",
       "      <td>NaN</td>\n",
       "      <td>NaN</td>\n",
       "    </tr>\n",
       "    <tr>\n",
       "      <th>4644</th>\n",
       "      <td>NaN</td>\n",
       "      <td>NaN</td>\n",
       "      <td>NaN</td>\n",
       "      <td>B</td>\n",
       "      <td>Rp 35.000</td>\n",
       "      <td>1</td>\n",
       "      <td>NaN</td>\n",
       "      <td>NaN</td>\n",
       "      <td>NaN</td>\n",
       "      <td>NaN</td>\n",
       "      <td>NaN</td>\n",
       "      <td>NaN</td>\n",
       "      <td>NaN</td>\n",
       "    </tr>\n",
       "    <tr>\n",
       "      <th>4645</th>\n",
       "      <td>NaN</td>\n",
       "      <td>NaN</td>\n",
       "      <td>NaN</td>\n",
       "      <td>1 paket @50gr</td>\n",
       "      <td>Rp 30.000</td>\n",
       "      <td>1</td>\n",
       "      <td>NaN</td>\n",
       "      <td>NaN</td>\n",
       "      <td>NaN</td>\n",
       "      <td>NaN</td>\n",
       "      <td>NaN</td>\n",
       "      <td>NaN</td>\n",
       "      <td>NaN</td>\n",
       "    </tr>\n",
       "  </tbody>\n",
       "</table>\n",
       "<p>4646 rows × 13 columns</p>\n",
       "</div>"
      ],
      "text/plain": [
       "         No. Pesanan Status Pesanan  Nama Produk         Nama Variasi  \\\n",
       "0     200302R7G0BX8D        Selesai          NaN                30x30   \n",
       "1     200302RM4QP8U8          Batal          NaN          Merah,100ml   \n",
       "2                NaN            NaN          NaN         Kuning,100ml   \n",
       "3                NaN            NaN          NaN           Biru,100ml   \n",
       "4                NaN            NaN          NaN          Hijau,100ml   \n",
       "...              ...            ...          ...                  ...   \n",
       "4641             NaN            NaN          NaN  Jumbo/giant,25 gram   \n",
       "4642  2007259YW67JHH        Selesai          NaN      Standar,25 gram   \n",
       "4643             NaN            NaN          NaN  Jumbo/giant,25 gram   \n",
       "4644             NaN            NaN          NaN                    B   \n",
       "4645             NaN            NaN          NaN        1 paket @50gr   \n",
       "\n",
       "     Harga Setelah Diskon  Jumlah  Potongan Koin Shopee  \\\n",
       "0               Rp 17.500       1                   0.0   \n",
       "1               Rp 20.000       1                   0.0   \n",
       "2               Rp 20.000       1                   NaN   \n",
       "3               Rp 20.000       1                   NaN   \n",
       "4               Rp 20.000       1                   NaN   \n",
       "...                   ...     ...                   ...   \n",
       "4641            Rp 13.000       1                   NaN   \n",
       "4642             Rp 6.500       1                   0.0   \n",
       "4643            Rp 13.000       1                   NaN   \n",
       "4644            Rp 35.000       1                   NaN   \n",
       "4645            Rp 30.000       1                   NaN   \n",
       "\n",
       "     Ongkos Kirim Dibayar oleh Pembeli Total Pembayaran  \\\n",
       "0                             Rp 9.000        Rp 26.500   \n",
       "1                            Rp 12.000        Rp 92.000   \n",
       "2                                  NaN              NaN   \n",
       "3                                  NaN              NaN   \n",
       "4                                  NaN              NaN   \n",
       "...                                ...              ...   \n",
       "4641                               NaN              NaN   \n",
       "4642                         Rp 32.000       Rp 116.500   \n",
       "4643                               NaN              NaN   \n",
       "4644                               NaN              NaN   \n",
       "4645                               NaN              NaN   \n",
       "\n",
       "            Username (Pembeli)        Kota/Kabupaten  Waktu Pembayaran  \\\n",
       "0                        usako    KOTA JAKARTA BARAT  2020-03-02 14:18   \n",
       "1     hannamargarethtampubolon          KOTA BANDUNG                 -   \n",
       "2                          NaN                   NaN               NaN   \n",
       "3                          NaN                   NaN               NaN   \n",
       "4                          NaN                   NaN               NaN   \n",
       "...                        ...                   ...               ...   \n",
       "4641                       NaN                   NaN               NaN   \n",
       "4642                  liftia10  KOTA JAKARTA SELATAN  2020-07-25 09:33   \n",
       "4643                       NaN                   NaN               NaN   \n",
       "4644                       NaN                   NaN               NaN   \n",
       "4645                       NaN                   NaN               NaN   \n",
       "\n",
       "        Pesanan Dibuat  \n",
       "0     2020-03-02 14:18  \n",
       "1     2020-03-02 18:04  \n",
       "2                  NaN  \n",
       "3                  NaN  \n",
       "4                  NaN  \n",
       "...                ...  \n",
       "4641               NaN  \n",
       "4642  2020-07-25 09:31  \n",
       "4643               NaN  \n",
       "4644               NaN  \n",
       "4645               NaN  \n",
       "\n",
       "[4646 rows x 13 columns]"
      ]
     },
     "execution_count": 23,
     "metadata": {},
     "output_type": "execute_result"
    }
   ],
   "source": [
    "df_new"
   ]
  },
  {
   "cell_type": "code",
   "execution_count": null,
   "metadata": {},
   "outputs": [],
   "source": []
  }
 ],
 "metadata": {
  "kernelspec": {
   "display_name": "Python 3",
   "language": "python",
   "name": "python3"
  },
  "language_info": {
   "codemirror_mode": {
    "name": "ipython",
    "version": 3
   },
   "file_extension": ".py",
   "mimetype": "text/x-python",
   "name": "python",
   "nbconvert_exporter": "python",
   "pygments_lexer": "ipython3",
   "version": "3.7.6"
  }
 },
 "nbformat": 4,
 "nbformat_minor": 2
}
