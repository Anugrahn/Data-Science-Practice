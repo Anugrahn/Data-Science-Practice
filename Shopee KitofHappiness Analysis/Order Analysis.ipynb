{
 "cells": [
  {
   "cell_type": "code",
   "execution_count": 1,
   "metadata": {
    "ExecuteTime": {
     "end_time": "2020-08-06T06:05:40.767753Z",
     "start_time": "2020-08-06T06:05:38.494796Z"
    }
   },
   "outputs": [],
   "source": [
    "import pandas as pd\n",
    "import numpy as np \n",
    "import seaborn as sns \n",
    "import warnings\n",
    "warnings.filterwarnings('ignore')"
   ]
  },
  {
   "cell_type": "code",
   "execution_count": 2,
   "metadata": {
    "ExecuteTime": {
     "end_time": "2020-08-04T07:37:53.508404Z",
     "start_time": "2020-08-04T07:37:53.102793Z"
    }
   },
   "outputs": [],
   "source": [
    "apr = pd.read_excel(\"Order April.xls\")\n",
    "jul = pd.read_excel(\"Order July.xls\")\n",
    "jun = pd.read_excel(\"Order June.xls\")\n",
    "may = pd.read_excel(\"Order May.xls\")\n",
    "mar = pd.read_excel(\"Orer March.xls\")"
   ]
  },
  {
   "cell_type": "markdown",
   "metadata": {},
   "source": [
    "### Data yg di ambil adalah\n",
    "- No Pesanan\n",
    "- Status Pesanan\n",
    "- Nama Produk \n",
    "- Nama Variasi\n",
    "- Harga setelah diskon \n",
    "- Jumlah\n",
    "- Potongan koin Shopee\n",
    "- Ongkos kirim Dibayar Oleh Pembeli\n",
    "- Total Pembayaran\n",
    "- Username\n",
    "- Kota/Kabupaten\n",
    "- Waktu Pembayaran Dilakukan\n",
    "- Waktu Pesanan Dibuat"
   ]
  },
  {
   "cell_type": "code",
   "execution_count": 3,
   "metadata": {
    "ExecuteTime": {
     "end_time": "2020-08-04T07:37:53.535410Z",
     "start_time": "2020-08-04T07:37:53.510385Z"
    },
    "scrolled": true
   },
   "outputs": [],
   "source": [
    "frames = [mar,apr,may,jun,jul]\n",
    "df = pd.concat(frames)"
   ]
  },
  {
   "cell_type": "code",
   "execution_count": 4,
   "metadata": {
    "ExecuteTime": {
     "end_time": "2020-08-04T07:37:53.540413Z",
     "start_time": "2020-08-04T07:37:53.537413Z"
    }
   },
   "outputs": [],
   "source": [
    "df.reset_index(drop=True,inplace=True)"
   ]
  },
  {
   "cell_type": "code",
   "execution_count": 5,
   "metadata": {
    "ExecuteTime": {
     "end_time": "2020-08-04T07:37:53.553406Z",
     "start_time": "2020-08-04T07:37:53.542393Z"
    }
   },
   "outputs": [],
   "source": [
    "df = df[['No. Pesanan','Status Pesanan', 'Nama Produk', 'Nama Variasi', \n",
    "    'Harga Setelah Diskon', 'Jumlah', 'Potongan Koin Shopee', 'Ongkos Kirim Dibayar oleh Pembeli', 'Total Pembayaran',\n",
    "        'Username (Pembeli)', 'Kota/Kabupaten']]"
   ]
  },
  {
   "cell_type": "code",
   "execution_count": 6,
   "metadata": {
    "ExecuteTime": {
     "end_time": "2020-08-04T07:37:53.569398Z",
     "start_time": "2020-08-04T07:37:53.554407Z"
    },
    "scrolled": false
   },
   "outputs": [
    {
     "name": "stdout",
     "output_type": "stream",
     "text": [
      "<class 'pandas.core.frame.DataFrame'>\n",
      "RangeIndex: 4646 entries, 0 to 4645\n",
      "Data columns (total 11 columns):\n",
      " #   Column                             Non-Null Count  Dtype  \n",
      "---  ------                             --------------  -----  \n",
      " 0   No. Pesanan                        1256 non-null   object \n",
      " 1   Status Pesanan                     1256 non-null   object \n",
      " 2   Nama Produk                        4646 non-null   object \n",
      " 3   Nama Variasi                       3846 non-null   object \n",
      " 4   Harga Setelah Diskon               4646 non-null   object \n",
      " 5   Jumlah                             4646 non-null   int64  \n",
      " 6   Potongan Koin Shopee               1256 non-null   float64\n",
      " 7   Ongkos Kirim Dibayar oleh Pembeli  1256 non-null   object \n",
      " 8   Total Pembayaran                   1256 non-null   object \n",
      " 9   Username (Pembeli)                 1256 non-null   object \n",
      " 10  Kota/Kabupaten                     1256 non-null   object \n",
      "dtypes: float64(1), int64(1), object(9)\n",
      "memory usage: 399.4+ KB\n"
     ]
    }
   ],
   "source": [
    "df.info()"
   ]
  },
  {
   "cell_type": "code",
   "execution_count": 7,
   "metadata": {
    "ExecuteTime": {
     "end_time": "2020-08-04T07:37:53.596405Z",
     "start_time": "2020-08-04T07:37:53.571399Z"
    }
   },
   "outputs": [
    {
     "data": {
      "text/html": [
       "<div>\n",
       "<style scoped>\n",
       "    .dataframe tbody tr th:only-of-type {\n",
       "        vertical-align: middle;\n",
       "    }\n",
       "\n",
       "    .dataframe tbody tr th {\n",
       "        vertical-align: top;\n",
       "    }\n",
       "\n",
       "    .dataframe thead th {\n",
       "        text-align: right;\n",
       "    }\n",
       "</style>\n",
       "<table border=\"1\" class=\"dataframe\">\n",
       "  <thead>\n",
       "    <tr style=\"text-align: right;\">\n",
       "      <th></th>\n",
       "      <th>No. Pesanan</th>\n",
       "      <th>Status Pesanan</th>\n",
       "      <th>Nama Produk</th>\n",
       "      <th>Nama Variasi</th>\n",
       "      <th>Harga Setelah Diskon</th>\n",
       "      <th>Jumlah</th>\n",
       "      <th>Potongan Koin Shopee</th>\n",
       "      <th>Ongkos Kirim Dibayar oleh Pembeli</th>\n",
       "      <th>Total Pembayaran</th>\n",
       "      <th>Username (Pembeli)</th>\n",
       "      <th>Kota/Kabupaten</th>\n",
       "    </tr>\n",
       "  </thead>\n",
       "  <tbody>\n",
       "    <tr>\n",
       "      <th>0</th>\n",
       "      <td>200302R7G0BX8D</td>\n",
       "      <td>Selesai</td>\n",
       "      <td>Kanvas lukis anak / small canvas for kids / ka...</td>\n",
       "      <td>30x30</td>\n",
       "      <td>Rp 17.500</td>\n",
       "      <td>1</td>\n",
       "      <td>0.0</td>\n",
       "      <td>Rp 9.000</td>\n",
       "      <td>Rp 26.500</td>\n",
       "      <td>usako</td>\n",
       "      <td>KOTA JAKARTA BARAT</td>\n",
       "    </tr>\n",
       "    <tr>\n",
       "      <th>1</th>\n",
       "      <td>200302RM4QP8U8</td>\n",
       "      <td>Batal</td>\n",
       "      <td>Giotto super washable finger paint share in bo...</td>\n",
       "      <td>Merah,100ml</td>\n",
       "      <td>Rp 20.000</td>\n",
       "      <td>1</td>\n",
       "      <td>0.0</td>\n",
       "      <td>Rp 12.000</td>\n",
       "      <td>Rp 92.000</td>\n",
       "      <td>hannamargarethtampubolon</td>\n",
       "      <td>KOTA BANDUNG</td>\n",
       "    </tr>\n",
       "    <tr>\n",
       "      <th>2</th>\n",
       "      <td>NaN</td>\n",
       "      <td>NaN</td>\n",
       "      <td>Giotto super washable finger paint share in bo...</td>\n",
       "      <td>Kuning,100ml</td>\n",
       "      <td>Rp 20.000</td>\n",
       "      <td>1</td>\n",
       "      <td>NaN</td>\n",
       "      <td>NaN</td>\n",
       "      <td>NaN</td>\n",
       "      <td>NaN</td>\n",
       "      <td>NaN</td>\n",
       "    </tr>\n",
       "    <tr>\n",
       "      <th>3</th>\n",
       "      <td>NaN</td>\n",
       "      <td>NaN</td>\n",
       "      <td>Giotto super washable finger paint share in bo...</td>\n",
       "      <td>Biru,100ml</td>\n",
       "      <td>Rp 20.000</td>\n",
       "      <td>1</td>\n",
       "      <td>NaN</td>\n",
       "      <td>NaN</td>\n",
       "      <td>NaN</td>\n",
       "      <td>NaN</td>\n",
       "      <td>NaN</td>\n",
       "    </tr>\n",
       "    <tr>\n",
       "      <th>4</th>\n",
       "      <td>NaN</td>\n",
       "      <td>NaN</td>\n",
       "      <td>Giotto super washable finger paint share in bo...</td>\n",
       "      <td>Hijau,100ml</td>\n",
       "      <td>Rp 20.000</td>\n",
       "      <td>1</td>\n",
       "      <td>NaN</td>\n",
       "      <td>NaN</td>\n",
       "      <td>NaN</td>\n",
       "      <td>NaN</td>\n",
       "      <td>NaN</td>\n",
       "    </tr>\n",
       "    <tr>\n",
       "      <th>...</th>\n",
       "      <td>...</td>\n",
       "      <td>...</td>\n",
       "      <td>...</td>\n",
       "      <td>...</td>\n",
       "      <td>...</td>\n",
       "      <td>...</td>\n",
       "      <td>...</td>\n",
       "      <td>...</td>\n",
       "      <td>...</td>\n",
       "      <td>...</td>\n",
       "      <td>...</td>\n",
       "    </tr>\n",
       "    <tr>\n",
       "      <th>4641</th>\n",
       "      <td>NaN</td>\n",
       "      <td>NaN</td>\n",
       "      <td>Giant waterbeads sensory play hidrogel jumbo/ ...</td>\n",
       "      <td>Jumbo/giant,25 gram</td>\n",
       "      <td>Rp 13.000</td>\n",
       "      <td>1</td>\n",
       "      <td>NaN</td>\n",
       "      <td>NaN</td>\n",
       "      <td>NaN</td>\n",
       "      <td>NaN</td>\n",
       "      <td>NaN</td>\n",
       "    </tr>\n",
       "    <tr>\n",
       "      <th>4642</th>\n",
       "      <td>2007259YW67JHH</td>\n",
       "      <td>Selesai</td>\n",
       "      <td>Giant waterbeads sensory play hidrogel jumbo/ ...</td>\n",
       "      <td>Standar,25 gram</td>\n",
       "      <td>Rp 6.500</td>\n",
       "      <td>1</td>\n",
       "      <td>0.0</td>\n",
       "      <td>Rp 32.000</td>\n",
       "      <td>Rp 116.500</td>\n",
       "      <td>liftia10</td>\n",
       "      <td>KOTA JAKARTA SELATAN</td>\n",
       "    </tr>\n",
       "    <tr>\n",
       "      <th>4643</th>\n",
       "      <td>NaN</td>\n",
       "      <td>NaN</td>\n",
       "      <td>Giant waterbeads sensory play hidrogel jumbo/ ...</td>\n",
       "      <td>Jumbo/giant,25 gram</td>\n",
       "      <td>Rp 13.000</td>\n",
       "      <td>1</td>\n",
       "      <td>NaN</td>\n",
       "      <td>NaN</td>\n",
       "      <td>NaN</td>\n",
       "      <td>NaN</td>\n",
       "      <td>NaN</td>\n",
       "    </tr>\n",
       "    <tr>\n",
       "      <th>4644</th>\n",
       "      <td>NaN</td>\n",
       "      <td>NaN</td>\n",
       "      <td>Die cast metal construction figurine / mainan ...</td>\n",
       "      <td>B</td>\n",
       "      <td>Rp 35.000</td>\n",
       "      <td>1</td>\n",
       "      <td>NaN</td>\n",
       "      <td>NaN</td>\n",
       "      <td>NaN</td>\n",
       "      <td>NaN</td>\n",
       "      <td>NaN</td>\n",
       "    </tr>\n",
       "    <tr>\n",
       "      <th>4645</th>\n",
       "      <td>NaN</td>\n",
       "      <td>NaN</td>\n",
       "      <td>200 gram sensory rice rainbow rice / montessor...</td>\n",
       "      <td>1 paket @50gr</td>\n",
       "      <td>Rp 30.000</td>\n",
       "      <td>1</td>\n",
       "      <td>NaN</td>\n",
       "      <td>NaN</td>\n",
       "      <td>NaN</td>\n",
       "      <td>NaN</td>\n",
       "      <td>NaN</td>\n",
       "    </tr>\n",
       "  </tbody>\n",
       "</table>\n",
       "<p>4646 rows × 11 columns</p>\n",
       "</div>"
      ],
      "text/plain": [
       "         No. Pesanan Status Pesanan  \\\n",
       "0     200302R7G0BX8D        Selesai   \n",
       "1     200302RM4QP8U8          Batal   \n",
       "2                NaN            NaN   \n",
       "3                NaN            NaN   \n",
       "4                NaN            NaN   \n",
       "...              ...            ...   \n",
       "4641             NaN            NaN   \n",
       "4642  2007259YW67JHH        Selesai   \n",
       "4643             NaN            NaN   \n",
       "4644             NaN            NaN   \n",
       "4645             NaN            NaN   \n",
       "\n",
       "                                            Nama Produk         Nama Variasi  \\\n",
       "0     Kanvas lukis anak / small canvas for kids / ka...                30x30   \n",
       "1     Giotto super washable finger paint share in bo...          Merah,100ml   \n",
       "2     Giotto super washable finger paint share in bo...         Kuning,100ml   \n",
       "3     Giotto super washable finger paint share in bo...           Biru,100ml   \n",
       "4     Giotto super washable finger paint share in bo...          Hijau,100ml   \n",
       "...                                                 ...                  ...   \n",
       "4641  Giant waterbeads sensory play hidrogel jumbo/ ...  Jumbo/giant,25 gram   \n",
       "4642  Giant waterbeads sensory play hidrogel jumbo/ ...      Standar,25 gram   \n",
       "4643  Giant waterbeads sensory play hidrogel jumbo/ ...  Jumbo/giant,25 gram   \n",
       "4644  Die cast metal construction figurine / mainan ...                    B   \n",
       "4645  200 gram sensory rice rainbow rice / montessor...        1 paket @50gr   \n",
       "\n",
       "     Harga Setelah Diskon  Jumlah  Potongan Koin Shopee  \\\n",
       "0               Rp 17.500       1                   0.0   \n",
       "1               Rp 20.000       1                   0.0   \n",
       "2               Rp 20.000       1                   NaN   \n",
       "3               Rp 20.000       1                   NaN   \n",
       "4               Rp 20.000       1                   NaN   \n",
       "...                   ...     ...                   ...   \n",
       "4641            Rp 13.000       1                   NaN   \n",
       "4642             Rp 6.500       1                   0.0   \n",
       "4643            Rp 13.000       1                   NaN   \n",
       "4644            Rp 35.000       1                   NaN   \n",
       "4645            Rp 30.000       1                   NaN   \n",
       "\n",
       "     Ongkos Kirim Dibayar oleh Pembeli Total Pembayaran  \\\n",
       "0                             Rp 9.000        Rp 26.500   \n",
       "1                            Rp 12.000        Rp 92.000   \n",
       "2                                  NaN              NaN   \n",
       "3                                  NaN              NaN   \n",
       "4                                  NaN              NaN   \n",
       "...                                ...              ...   \n",
       "4641                               NaN              NaN   \n",
       "4642                         Rp 32.000       Rp 116.500   \n",
       "4643                               NaN              NaN   \n",
       "4644                               NaN              NaN   \n",
       "4645                               NaN              NaN   \n",
       "\n",
       "            Username (Pembeli)        Kota/Kabupaten  \n",
       "0                        usako    KOTA JAKARTA BARAT  \n",
       "1     hannamargarethtampubolon          KOTA BANDUNG  \n",
       "2                          NaN                   NaN  \n",
       "3                          NaN                   NaN  \n",
       "4                          NaN                   NaN  \n",
       "...                        ...                   ...  \n",
       "4641                       NaN                   NaN  \n",
       "4642                  liftia10  KOTA JAKARTA SELATAN  \n",
       "4643                       NaN                   NaN  \n",
       "4644                       NaN                   NaN  \n",
       "4645                       NaN                   NaN  \n",
       "\n",
       "[4646 rows x 11 columns]"
      ]
     },
     "execution_count": 7,
     "metadata": {},
     "output_type": "execute_result"
    }
   ],
   "source": [
    "df"
   ]
  },
  {
   "cell_type": "code",
   "execution_count": 8,
   "metadata": {
    "ExecuteTime": {
     "end_time": "2020-08-04T07:37:53.603406Z",
     "start_time": "2020-08-04T07:37:53.599420Z"
    }
   },
   "outputs": [],
   "source": [
    "x = df['Nama Produk'].loc[0]\n",
    "y = df['Nama Variasi'].loc[0]"
   ]
  },
  {
   "cell_type": "code",
   "execution_count": 9,
   "metadata": {
    "ExecuteTime": {
     "end_time": "2020-08-04T07:37:53.610408Z",
     "start_time": "2020-08-04T07:37:53.605407Z"
    }
   },
   "outputs": [
    {
     "data": {
      "text/plain": [
       "'Kanvas lukis 30x30'"
      ]
     },
     "execution_count": 9,
     "metadata": {},
     "output_type": "execute_result"
    }
   ],
   "source": [
    "x.split()[0] + ' ' +  x.split()[1] + ' ' + y"
   ]
  },
  {
   "cell_type": "code",
   "execution_count": 10,
   "metadata": {
    "ExecuteTime": {
     "end_time": "2020-08-04T07:37:53.626422Z",
     "start_time": "2020-08-04T07:37:53.612422Z"
    }
   },
   "outputs": [],
   "source": [
    "x = []\n",
    "for item in df['Nama Produk']:\n",
    "    splitan = item.split()[0] + ' ' +  item.split()[1]\n",
    "    x.append(splitan)"
   ]
  },
  {
   "cell_type": "code",
   "execution_count": 11,
   "metadata": {
    "ExecuteTime": {
     "end_time": "2020-08-04T07:37:53.633426Z",
     "start_time": "2020-08-04T07:37:53.628424Z"
    }
   },
   "outputs": [],
   "source": [
    "df['Nama Produk'] = x"
   ]
  },
  {
   "cell_type": "code",
   "execution_count": 12,
   "metadata": {
    "ExecuteTime": {
     "end_time": "2020-08-04T07:37:53.641414Z",
     "start_time": "2020-08-04T07:37:53.635420Z"
    }
   },
   "outputs": [
    {
     "data": {
      "text/plain": [
       "array(['Kanvas lukis', 'Giotto super', 'Giotto super', ...,\n",
       "       'Giant waterbeads', 'Die cast', '200 gram'], dtype=object)"
      ]
     },
     "execution_count": 12,
     "metadata": {},
     "output_type": "execute_result"
    }
   ],
   "source": [
    "df['Nama Produk'].values"
   ]
  },
  {
   "cell_type": "code",
   "execution_count": 13,
   "metadata": {
    "ExecuteTime": {
     "end_time": "2020-08-04T07:37:53.647416Z",
     "start_time": "2020-08-04T07:37:53.643427Z"
    }
   },
   "outputs": [],
   "source": [
    "x = df['Nama Produk'].values\n",
    "y = df['Nama Variasi']"
   ]
  },
  {
   "cell_type": "markdown",
   "metadata": {
    "ExecuteTime": {
     "end_time": "2020-07-31T09:31:36.545387Z",
     "start_time": "2020-07-31T09:31:36.541385Z"
    }
   },
   "source": [
    "## Ubah nama \n",
    "- Sensory rice --> Sensory Rice Ocean\n",
    "- 200 gram --> Sensory Rice 200 gram \n",
    "- 10 gram + Instant Snow --> Instant Snow\n",
    "- Sensory play + Giant Waterbeads + 50g 25g + 50g sensory + Kitsofhappiness - + 50g waterbeads --> Giant Waterbeads\n",
    "- Sponge brush + Roller sponge --> Sponge Brush"
   ]
  },
  {
   "cell_type": "code",
   "execution_count": 14,
   "metadata": {
    "ExecuteTime": {
     "end_time": "2020-08-04T07:37:53.656418Z",
     "start_time": "2020-08-04T07:37:53.649429Z"
    }
   },
   "outputs": [],
   "source": [
    "def applyProduk2(x):\n",
    "    if x == 'Sensory rice':\n",
    "        return 'Sensory Rice Ocean'\n",
    "    elif x == '200 gram':\n",
    "        return 'Sensory Rice 200 gram'\n",
    "    elif x == '10 gram':\n",
    "        return 'Instant snow'\n",
    "    elif x == 'Sensory play':\n",
    "        return 'Giant waterbeads'\n",
    "    elif x == '50g 25g':\n",
    "        return 'Giant waterbeads'\n",
    "    elif x == '50g sensory':\n",
    "        return 'Giant waterbeads'\n",
    "    elif x == 'Kitsofhappiness -':\n",
    "        return 'Giant waterbeads'\n",
    "    elif x == '50g waterbeads':\n",
    "        return 'Giant waterbeads'\n",
    "    elif x == 'Roller sponge':\n",
    "        return 'Sponge brush'\n",
    "    else :\n",
    "        return x"
   ]
  },
  {
   "cell_type": "code",
   "execution_count": 15,
   "metadata": {
    "ExecuteTime": {
     "end_time": "2020-08-04T07:37:53.665432Z",
     "start_time": "2020-08-04T07:37:53.658419Z"
    }
   },
   "outputs": [],
   "source": [
    "def applyProduk(x):\n",
    "    if x['Nama Produk'] == 'Sensory rice':\n",
    "        return 'Sensory Rice Ocean'\n",
    "    elif x['Nama Produk'] == '200 gram':\n",
    "        return 'Sensory Rice 200 gram'\n",
    "    elif x['Nama Produk'] == '10 gram':\n",
    "        return 'Instant snow'\n",
    "    elif x['Nama Produk'] == 'Sensory play':\n",
    "        return 'Giant waterbeads'\n",
    "    elif x['Nama Produk'] == '50g 25g':\n",
    "        return 'Giant waterbeads'\n",
    "    elif x['Nama Produk'] == '50g sensory':\n",
    "        return 'Giant waterbeads'\n",
    "    elif x['Nama Produk'] == 'Kitsofhappiness -':\n",
    "        return 'Giant waterbeads'\n",
    "    elif x['Nama Produk'] == '50g waterbeads':\n",
    "        return 'Giant waterbeads'\n",
    "    elif x['Nama Produk'] == 'Roller sponge':\n",
    "        return 'Sponge brush'\n",
    "    else :\n",
    "        return x"
   ]
  },
  {
   "cell_type": "code",
   "execution_count": 16,
   "metadata": {
    "ExecuteTime": {
     "end_time": "2020-08-04T07:37:53.674422Z",
     "start_time": "2020-08-04T07:37:53.667434Z"
    }
   },
   "outputs": [],
   "source": [
    "df['Nama Produk'] = df['Nama Produk'].apply(applyProduk2)"
   ]
  },
  {
   "cell_type": "code",
   "execution_count": 17,
   "metadata": {
    "ExecuteTime": {
     "end_time": "2020-08-04T07:37:53.684436Z",
     "start_time": "2020-08-04T07:37:53.676435Z"
    }
   },
   "outputs": [
    {
     "data": {
      "text/plain": [
       "Cat lukis                    2138\n",
       "Giant waterbeads              489\n",
       "Kanvas lukis                  338\n",
       "Giotto super                  274\n",
       "Animal play                   237\n",
       "Sensory Rice 200 gram         172\n",
       "Deli washable                 136\n",
       "Instant snow                  136\n",
       "Montessori tray               113\n",
       "Sponge brush                  101\n",
       "50-100pcs pompom               90\n",
       "Sort the                       84\n",
       "Wipe and                       53\n",
       "Feed the                       45\n",
       "Painting set                   44\n",
       "Coding and                     39\n",
       "DIY metamorfosis               32\n",
       "Scooper scissors               24\n",
       "Mathematical Intelligence      19\n",
       "Busy jar                       18\n",
       "Meet the                       14\n",
       "Sensory Rice Ocean             14\n",
       "Die cast                       12\n",
       "Boneka talking                 11\n",
       "Wooden counters                10\n",
       "Wooden rail                     3\n",
       "Name: Nama Produk, dtype: int64"
      ]
     },
     "execution_count": 17,
     "metadata": {},
     "output_type": "execute_result"
    }
   ],
   "source": [
    "df['Nama Produk'].value_counts()"
   ]
  },
  {
   "cell_type": "code",
   "execution_count": 18,
   "metadata": {
    "ExecuteTime": {
     "end_time": "2020-08-04T07:37:53.690437Z",
     "start_time": "2020-08-04T07:37:53.686428Z"
    }
   },
   "outputs": [],
   "source": [
    "df_new = df.copy()"
   ]
  },
  {
   "cell_type": "code",
   "execution_count": 19,
   "metadata": {
    "ExecuteTime": {
     "end_time": "2020-08-04T07:37:53.719434Z",
     "start_time": "2020-08-04T07:37:53.692438Z"
    },
    "scrolled": true
   },
   "outputs": [],
   "source": [
    "df_new['Waktu Pembayaran'] = pd.concat(frames)['Waktu Pembayaran Dilakukan'].values"
   ]
  },
  {
   "cell_type": "code",
   "execution_count": 20,
   "metadata": {
    "ExecuteTime": {
     "end_time": "2020-08-04T07:37:53.748468Z",
     "start_time": "2020-08-04T07:37:53.721444Z"
    }
   },
   "outputs": [],
   "source": [
    "df_new['Pesanan Dibuat'] = pd.concat(frames)['Waktu Pesanan Dibuat'].values"
   ]
  },
  {
   "cell_type": "code",
   "execution_count": 21,
   "metadata": {
    "ExecuteTime": {
     "end_time": "2020-08-04T07:37:53.783495Z",
     "start_time": "2020-08-04T07:37:53.750488Z"
    }
   },
   "outputs": [],
   "source": [
    "df_new.to_csv('Processing Data.csv')"
   ]
  },
  {
   "cell_type": "code",
   "execution_count": 22,
   "metadata": {
    "ExecuteTime": {
     "end_time": "2020-08-04T07:37:53.808483Z",
     "start_time": "2020-08-04T07:37:53.785487Z"
    }
   },
   "outputs": [
    {
     "data": {
      "text/html": [
       "<div>\n",
       "<style scoped>\n",
       "    .dataframe tbody tr th:only-of-type {\n",
       "        vertical-align: middle;\n",
       "    }\n",
       "\n",
       "    .dataframe tbody tr th {\n",
       "        vertical-align: top;\n",
       "    }\n",
       "\n",
       "    .dataframe thead th {\n",
       "        text-align: right;\n",
       "    }\n",
       "</style>\n",
       "<table border=\"1\" class=\"dataframe\">\n",
       "  <thead>\n",
       "    <tr style=\"text-align: right;\">\n",
       "      <th></th>\n",
       "      <th>No. Pesanan</th>\n",
       "      <th>Status Pesanan</th>\n",
       "      <th>Nama Produk</th>\n",
       "      <th>Nama Variasi</th>\n",
       "      <th>Harga Setelah Diskon</th>\n",
       "      <th>Jumlah</th>\n",
       "      <th>Potongan Koin Shopee</th>\n",
       "      <th>Ongkos Kirim Dibayar oleh Pembeli</th>\n",
       "      <th>Total Pembayaran</th>\n",
       "      <th>Username (Pembeli)</th>\n",
       "      <th>Kota/Kabupaten</th>\n",
       "      <th>Waktu Pembayaran</th>\n",
       "      <th>Pesanan Dibuat</th>\n",
       "    </tr>\n",
       "  </thead>\n",
       "  <tbody>\n",
       "    <tr>\n",
       "      <th>0</th>\n",
       "      <td>200302R7G0BX8D</td>\n",
       "      <td>Selesai</td>\n",
       "      <td>Kanvas lukis</td>\n",
       "      <td>30x30</td>\n",
       "      <td>Rp 17.500</td>\n",
       "      <td>1</td>\n",
       "      <td>0.0</td>\n",
       "      <td>Rp 9.000</td>\n",
       "      <td>Rp 26.500</td>\n",
       "      <td>usako</td>\n",
       "      <td>KOTA JAKARTA BARAT</td>\n",
       "      <td>2020-03-02 14:18</td>\n",
       "      <td>2020-03-02 14:18</td>\n",
       "    </tr>\n",
       "    <tr>\n",
       "      <th>1</th>\n",
       "      <td>200302RM4QP8U8</td>\n",
       "      <td>Batal</td>\n",
       "      <td>Giotto super</td>\n",
       "      <td>Merah,100ml</td>\n",
       "      <td>Rp 20.000</td>\n",
       "      <td>1</td>\n",
       "      <td>0.0</td>\n",
       "      <td>Rp 12.000</td>\n",
       "      <td>Rp 92.000</td>\n",
       "      <td>hannamargarethtampubolon</td>\n",
       "      <td>KOTA BANDUNG</td>\n",
       "      <td>-</td>\n",
       "      <td>2020-03-02 18:04</td>\n",
       "    </tr>\n",
       "    <tr>\n",
       "      <th>2</th>\n",
       "      <td>NaN</td>\n",
       "      <td>NaN</td>\n",
       "      <td>Giotto super</td>\n",
       "      <td>Kuning,100ml</td>\n",
       "      <td>Rp 20.000</td>\n",
       "      <td>1</td>\n",
       "      <td>NaN</td>\n",
       "      <td>NaN</td>\n",
       "      <td>NaN</td>\n",
       "      <td>NaN</td>\n",
       "      <td>NaN</td>\n",
       "      <td>NaN</td>\n",
       "      <td>NaN</td>\n",
       "    </tr>\n",
       "    <tr>\n",
       "      <th>3</th>\n",
       "      <td>NaN</td>\n",
       "      <td>NaN</td>\n",
       "      <td>Giotto super</td>\n",
       "      <td>Biru,100ml</td>\n",
       "      <td>Rp 20.000</td>\n",
       "      <td>1</td>\n",
       "      <td>NaN</td>\n",
       "      <td>NaN</td>\n",
       "      <td>NaN</td>\n",
       "      <td>NaN</td>\n",
       "      <td>NaN</td>\n",
       "      <td>NaN</td>\n",
       "      <td>NaN</td>\n",
       "    </tr>\n",
       "    <tr>\n",
       "      <th>4</th>\n",
       "      <td>NaN</td>\n",
       "      <td>NaN</td>\n",
       "      <td>Giotto super</td>\n",
       "      <td>Hijau,100ml</td>\n",
       "      <td>Rp 20.000</td>\n",
       "      <td>1</td>\n",
       "      <td>NaN</td>\n",
       "      <td>NaN</td>\n",
       "      <td>NaN</td>\n",
       "      <td>NaN</td>\n",
       "      <td>NaN</td>\n",
       "      <td>NaN</td>\n",
       "      <td>NaN</td>\n",
       "    </tr>\n",
       "    <tr>\n",
       "      <th>...</th>\n",
       "      <td>...</td>\n",
       "      <td>...</td>\n",
       "      <td>...</td>\n",
       "      <td>...</td>\n",
       "      <td>...</td>\n",
       "      <td>...</td>\n",
       "      <td>...</td>\n",
       "      <td>...</td>\n",
       "      <td>...</td>\n",
       "      <td>...</td>\n",
       "      <td>...</td>\n",
       "      <td>...</td>\n",
       "      <td>...</td>\n",
       "    </tr>\n",
       "    <tr>\n",
       "      <th>4641</th>\n",
       "      <td>NaN</td>\n",
       "      <td>NaN</td>\n",
       "      <td>Giant waterbeads</td>\n",
       "      <td>Jumbo/giant,25 gram</td>\n",
       "      <td>Rp 13.000</td>\n",
       "      <td>1</td>\n",
       "      <td>NaN</td>\n",
       "      <td>NaN</td>\n",
       "      <td>NaN</td>\n",
       "      <td>NaN</td>\n",
       "      <td>NaN</td>\n",
       "      <td>NaN</td>\n",
       "      <td>NaN</td>\n",
       "    </tr>\n",
       "    <tr>\n",
       "      <th>4642</th>\n",
       "      <td>2007259YW67JHH</td>\n",
       "      <td>Selesai</td>\n",
       "      <td>Giant waterbeads</td>\n",
       "      <td>Standar,25 gram</td>\n",
       "      <td>Rp 6.500</td>\n",
       "      <td>1</td>\n",
       "      <td>0.0</td>\n",
       "      <td>Rp 32.000</td>\n",
       "      <td>Rp 116.500</td>\n",
       "      <td>liftia10</td>\n",
       "      <td>KOTA JAKARTA SELATAN</td>\n",
       "      <td>2020-07-25 09:33</td>\n",
       "      <td>2020-07-25 09:31</td>\n",
       "    </tr>\n",
       "    <tr>\n",
       "      <th>4643</th>\n",
       "      <td>NaN</td>\n",
       "      <td>NaN</td>\n",
       "      <td>Giant waterbeads</td>\n",
       "      <td>Jumbo/giant,25 gram</td>\n",
       "      <td>Rp 13.000</td>\n",
       "      <td>1</td>\n",
       "      <td>NaN</td>\n",
       "      <td>NaN</td>\n",
       "      <td>NaN</td>\n",
       "      <td>NaN</td>\n",
       "      <td>NaN</td>\n",
       "      <td>NaN</td>\n",
       "      <td>NaN</td>\n",
       "    </tr>\n",
       "    <tr>\n",
       "      <th>4644</th>\n",
       "      <td>NaN</td>\n",
       "      <td>NaN</td>\n",
       "      <td>Die cast</td>\n",
       "      <td>B</td>\n",
       "      <td>Rp 35.000</td>\n",
       "      <td>1</td>\n",
       "      <td>NaN</td>\n",
       "      <td>NaN</td>\n",
       "      <td>NaN</td>\n",
       "      <td>NaN</td>\n",
       "      <td>NaN</td>\n",
       "      <td>NaN</td>\n",
       "      <td>NaN</td>\n",
       "    </tr>\n",
       "    <tr>\n",
       "      <th>4645</th>\n",
       "      <td>NaN</td>\n",
       "      <td>NaN</td>\n",
       "      <td>Sensory Rice 200 gram</td>\n",
       "      <td>1 paket @50gr</td>\n",
       "      <td>Rp 30.000</td>\n",
       "      <td>1</td>\n",
       "      <td>NaN</td>\n",
       "      <td>NaN</td>\n",
       "      <td>NaN</td>\n",
       "      <td>NaN</td>\n",
       "      <td>NaN</td>\n",
       "      <td>NaN</td>\n",
       "      <td>NaN</td>\n",
       "    </tr>\n",
       "  </tbody>\n",
       "</table>\n",
       "<p>4646 rows × 13 columns</p>\n",
       "</div>"
      ],
      "text/plain": [
       "         No. Pesanan Status Pesanan            Nama Produk  \\\n",
       "0     200302R7G0BX8D        Selesai           Kanvas lukis   \n",
       "1     200302RM4QP8U8          Batal           Giotto super   \n",
       "2                NaN            NaN           Giotto super   \n",
       "3                NaN            NaN           Giotto super   \n",
       "4                NaN            NaN           Giotto super   \n",
       "...              ...            ...                    ...   \n",
       "4641             NaN            NaN       Giant waterbeads   \n",
       "4642  2007259YW67JHH        Selesai       Giant waterbeads   \n",
       "4643             NaN            NaN       Giant waterbeads   \n",
       "4644             NaN            NaN               Die cast   \n",
       "4645             NaN            NaN  Sensory Rice 200 gram   \n",
       "\n",
       "             Nama Variasi Harga Setelah Diskon  Jumlah  Potongan Koin Shopee  \\\n",
       "0                   30x30            Rp 17.500       1                   0.0   \n",
       "1             Merah,100ml            Rp 20.000       1                   0.0   \n",
       "2            Kuning,100ml            Rp 20.000       1                   NaN   \n",
       "3              Biru,100ml            Rp 20.000       1                   NaN   \n",
       "4             Hijau,100ml            Rp 20.000       1                   NaN   \n",
       "...                   ...                  ...     ...                   ...   \n",
       "4641  Jumbo/giant,25 gram            Rp 13.000       1                   NaN   \n",
       "4642      Standar,25 gram             Rp 6.500       1                   0.0   \n",
       "4643  Jumbo/giant,25 gram            Rp 13.000       1                   NaN   \n",
       "4644                    B            Rp 35.000       1                   NaN   \n",
       "4645        1 paket @50gr            Rp 30.000       1                   NaN   \n",
       "\n",
       "     Ongkos Kirim Dibayar oleh Pembeli Total Pembayaran  \\\n",
       "0                             Rp 9.000        Rp 26.500   \n",
       "1                            Rp 12.000        Rp 92.000   \n",
       "2                                  NaN              NaN   \n",
       "3                                  NaN              NaN   \n",
       "4                                  NaN              NaN   \n",
       "...                                ...              ...   \n",
       "4641                               NaN              NaN   \n",
       "4642                         Rp 32.000       Rp 116.500   \n",
       "4643                               NaN              NaN   \n",
       "4644                               NaN              NaN   \n",
       "4645                               NaN              NaN   \n",
       "\n",
       "            Username (Pembeli)        Kota/Kabupaten  Waktu Pembayaran  \\\n",
       "0                        usako    KOTA JAKARTA BARAT  2020-03-02 14:18   \n",
       "1     hannamargarethtampubolon          KOTA BANDUNG                 -   \n",
       "2                          NaN                   NaN               NaN   \n",
       "3                          NaN                   NaN               NaN   \n",
       "4                          NaN                   NaN               NaN   \n",
       "...                        ...                   ...               ...   \n",
       "4641                       NaN                   NaN               NaN   \n",
       "4642                  liftia10  KOTA JAKARTA SELATAN  2020-07-25 09:33   \n",
       "4643                       NaN                   NaN               NaN   \n",
       "4644                       NaN                   NaN               NaN   \n",
       "4645                       NaN                   NaN               NaN   \n",
       "\n",
       "        Pesanan Dibuat  \n",
       "0     2020-03-02 14:18  \n",
       "1     2020-03-02 18:04  \n",
       "2                  NaN  \n",
       "3                  NaN  \n",
       "4                  NaN  \n",
       "...                ...  \n",
       "4641               NaN  \n",
       "4642  2020-07-25 09:31  \n",
       "4643               NaN  \n",
       "4644               NaN  \n",
       "4645               NaN  \n",
       "\n",
       "[4646 rows x 13 columns]"
      ]
     },
     "execution_count": 22,
     "metadata": {},
     "output_type": "execute_result"
    }
   ],
   "source": [
    "df_new"
   ]
  },
  {
   "cell_type": "markdown",
   "metadata": {},
   "source": [
    "### 10 Produk Unggulan Kit of Happines"
   ]
  },
  {
   "cell_type": "code",
   "execution_count": 23,
   "metadata": {
    "ExecuteTime": {
     "end_time": "2020-08-04T07:37:54.069580Z",
     "start_time": "2020-08-04T07:37:53.812495Z"
    },
    "scrolled": true
   },
   "outputs": [
    {
     "data": {
      "image/png": "[encoded data removed]",
      "text/plain": [
       "<Figure size 1080x360 with 1 Axes>"
      ]
     },
     "metadata": {
      "needs_background": "light"
     },
     "output_type": "display_data"
    }
   ],
   "source": [
    "import matplotlib.pyplot as plt\n",
    "plt.figure(figsize=(15,5))\n",
    "sns.barplot(y = df_new['Nama Produk'].value_counts().head(10).values,x=df_new['Nama Produk'].value_counts().head(10).index)\n",
    "plt.tight_layout()"
   ]
  },
  {
   "cell_type": "code",
   "execution_count": 24,
   "metadata": {
    "ExecuteTime": {
     "end_time": "2020-08-04T07:37:54.079563Z",
     "start_time": "2020-08-04T07:37:54.071581Z"
    }
   },
   "outputs": [
    {
     "data": {
      "text/plain": [
       "Cat lukis                2138\n",
       "Giant waterbeads          489\n",
       "Kanvas lukis              338\n",
       "Giotto super              274\n",
       "Animal play               237\n",
       "Sensory Rice 200 gram     172\n",
       "Deli washable             136\n",
       "Instant snow              136\n",
       "Montessori tray           113\n",
       "Sponge brush              101\n",
       "Name: Nama Produk, dtype: int64"
      ]
     },
     "execution_count": 24,
     "metadata": {},
     "output_type": "execute_result"
    }
   ],
   "source": [
    "df_new['Nama Produk'].value_counts().head(10)"
   ]
  },
  {
   "cell_type": "markdown",
   "metadata": {},
   "source": [
    "## Perhitungan RFM"
   ]
  },
  {
   "cell_type": "code",
   "execution_count": 25,
   "metadata": {
    "ExecuteTime": {
     "end_time": "2020-08-04T07:37:54.088565Z",
     "start_time": "2020-08-04T07:37:54.081563Z"
    }
   },
   "outputs": [],
   "source": [
    "df_rfm = df_new[df_new['Status Pesanan'] == 'Selesai']"
   ]
  },
  {
   "cell_type": "code",
   "execution_count": 26,
   "metadata": {
    "ExecuteTime": {
     "end_time": "2020-08-04T07:37:54.099579Z",
     "start_time": "2020-08-04T07:37:54.090577Z"
    }
   },
   "outputs": [],
   "source": [
    "df_rfm['Pesanan Dibuat'] = pd.to_datetime(df_rfm['Pesanan Dibuat'])\n",
    "df_rfm['Waktu Pembayaran'] = pd.to_datetime(df_rfm['Waktu Pembayaran'])"
   ]
  },
  {
   "cell_type": "code",
   "execution_count": 27,
   "metadata": {
    "ExecuteTime": {
     "end_time": "2020-08-04T07:37:54.119610Z",
     "start_time": "2020-08-04T07:37:54.101568Z"
    }
   },
   "outputs": [
    {
     "data": {
      "text/html": [
       "<div>\n",
       "<style scoped>\n",
       "    .dataframe tbody tr th:only-of-type {\n",
       "        vertical-align: middle;\n",
       "    }\n",
       "\n",
       "    .dataframe tbody tr th {\n",
       "        vertical-align: top;\n",
       "    }\n",
       "\n",
       "    .dataframe thead th {\n",
       "        text-align: right;\n",
       "    }\n",
       "</style>\n",
       "<table border=\"1\" class=\"dataframe\">\n",
       "  <thead>\n",
       "    <tr style=\"text-align: right;\">\n",
       "      <th></th>\n",
       "      <th>No. Pesanan</th>\n",
       "      <th>Status Pesanan</th>\n",
       "      <th>Nama Produk</th>\n",
       "      <th>Nama Variasi</th>\n",
       "      <th>Harga Setelah Diskon</th>\n",
       "      <th>Jumlah</th>\n",
       "      <th>Potongan Koin Shopee</th>\n",
       "      <th>Ongkos Kirim Dibayar oleh Pembeli</th>\n",
       "      <th>Total Pembayaran</th>\n",
       "      <th>Username (Pembeli)</th>\n",
       "      <th>Kota/Kabupaten</th>\n",
       "      <th>Waktu Pembayaran</th>\n",
       "      <th>Pesanan Dibuat</th>\n",
       "    </tr>\n",
       "  </thead>\n",
       "  <tbody>\n",
       "    <tr>\n",
       "      <th>0</th>\n",
       "      <td>200302R7G0BX8D</td>\n",
       "      <td>Selesai</td>\n",
       "      <td>Kanvas lukis</td>\n",
       "      <td>30x30</td>\n",
       "      <td>Rp 17.500</td>\n",
       "      <td>1</td>\n",
       "      <td>0.0</td>\n",
       "      <td>Rp 9.000</td>\n",
       "      <td>Rp 26.500</td>\n",
       "      <td>usako</td>\n",
       "      <td>KOTA JAKARTA BARAT</td>\n",
       "      <td>2020-03-02 14:18:00</td>\n",
       "      <td>2020-03-02 14:18:00</td>\n",
       "    </tr>\n",
       "    <tr>\n",
       "      <th>5</th>\n",
       "      <td>200302RMDNAAYM</td>\n",
       "      <td>Selesai</td>\n",
       "      <td>Giotto super</td>\n",
       "      <td>Merah,100ml</td>\n",
       "      <td>Rp 20.000</td>\n",
       "      <td>1</td>\n",
       "      <td>0.0</td>\n",
       "      <td>Rp 12.000</td>\n",
       "      <td>Rp 92.000</td>\n",
       "      <td>hannamargarethtampubolon</td>\n",
       "      <td>KOTA BANDUNG</td>\n",
       "      <td>2020-03-02 18:09:00</td>\n",
       "      <td>2020-03-02 18:09:00</td>\n",
       "    </tr>\n",
       "    <tr>\n",
       "      <th>9</th>\n",
       "      <td>200302S271WQR1</td>\n",
       "      <td>Selesai</td>\n",
       "      <td>Deli washable</td>\n",
       "      <td>NaN</td>\n",
       "      <td>Rp 53.000</td>\n",
       "      <td>1</td>\n",
       "      <td>0.0</td>\n",
       "      <td>Rp 0</td>\n",
       "      <td>Rp 53.000</td>\n",
       "      <td>inooydhewi</td>\n",
       "      <td>KAB. KARAWANG</td>\n",
       "      <td>2020-03-02 22:16:00</td>\n",
       "      <td>2020-03-02 22:16:00</td>\n",
       "    </tr>\n",
       "    <tr>\n",
       "      <th>10</th>\n",
       "      <td>200303TVV6M5MX</td>\n",
       "      <td>Selesai</td>\n",
       "      <td>Giotto super</td>\n",
       "      <td>Kuning,20ml</td>\n",
       "      <td>Rp 5.500</td>\n",
       "      <td>1</td>\n",
       "      <td>0.0</td>\n",
       "      <td>Rp 0</td>\n",
       "      <td>Rp 16.500</td>\n",
       "      <td>maya1990</td>\n",
       "      <td>KAB. BOGOR</td>\n",
       "      <td>2020-03-03 15:46:00</td>\n",
       "      <td>2020-03-03 15:46:00</td>\n",
       "    </tr>\n",
       "    <tr>\n",
       "      <th>13</th>\n",
       "      <td>20030405XEK14E</td>\n",
       "      <td>Selesai</td>\n",
       "      <td>Giotto super</td>\n",
       "      <td>Merah,100ml</td>\n",
       "      <td>Rp 20.000</td>\n",
       "      <td>2</td>\n",
       "      <td>0.0</td>\n",
       "      <td>Rp 49.000</td>\n",
       "      <td>Rp 191.395</td>\n",
       "      <td>sherlyshopid</td>\n",
       "      <td>KOTA TANGERANG</td>\n",
       "      <td>2020-03-04 14:33:00</td>\n",
       "      <td>2020-03-04 14:33:00</td>\n",
       "    </tr>\n",
       "  </tbody>\n",
       "</table>\n",
       "</div>"
      ],
      "text/plain": [
       "       No. Pesanan Status Pesanan    Nama Produk Nama Variasi  \\\n",
       "0   200302R7G0BX8D        Selesai   Kanvas lukis        30x30   \n",
       "5   200302RMDNAAYM        Selesai   Giotto super  Merah,100ml   \n",
       "9   200302S271WQR1        Selesai  Deli washable          NaN   \n",
       "10  200303TVV6M5MX        Selesai   Giotto super  Kuning,20ml   \n",
       "13  20030405XEK14E        Selesai   Giotto super  Merah,100ml   \n",
       "\n",
       "   Harga Setelah Diskon  Jumlah  Potongan Koin Shopee  \\\n",
       "0             Rp 17.500       1                   0.0   \n",
       "5             Rp 20.000       1                   0.0   \n",
       "9             Rp 53.000       1                   0.0   \n",
       "10             Rp 5.500       1                   0.0   \n",
       "13            Rp 20.000       2                   0.0   \n",
       "\n",
       "   Ongkos Kirim Dibayar oleh Pembeli Total Pembayaran  \\\n",
       "0                           Rp 9.000        Rp 26.500   \n",
       "5                          Rp 12.000        Rp 92.000   \n",
       "9                               Rp 0        Rp 53.000   \n",
       "10                              Rp 0        Rp 16.500   \n",
       "13                         Rp 49.000       Rp 191.395   \n",
       "\n",
       "          Username (Pembeli)      Kota/Kabupaten    Waktu Pembayaran  \\\n",
       "0                      usako  KOTA JAKARTA BARAT 2020-03-02 14:18:00   \n",
       "5   hannamargarethtampubolon        KOTA BANDUNG 2020-03-02 18:09:00   \n",
       "9                 inooydhewi       KAB. KARAWANG 2020-03-02 22:16:00   \n",
       "10                  maya1990          KAB. BOGOR 2020-03-03 15:46:00   \n",
       "13              sherlyshopid      KOTA TANGERANG 2020-03-04 14:33:00   \n",
       "\n",
       "        Pesanan Dibuat  \n",
       "0  2020-03-02 14:18:00  \n",
       "5  2020-03-02 18:09:00  \n",
       "9  2020-03-02 22:16:00  \n",
       "10 2020-03-03 15:46:00  \n",
       "13 2020-03-04 14:33:00  "
      ]
     },
     "execution_count": 27,
     "metadata": {},
     "output_type": "execute_result"
    }
   ],
   "source": [
    "df_rfm.head()"
   ]
  },
  {
   "cell_type": "code",
   "execution_count": 28,
   "metadata": {
    "ExecuteTime": {
     "end_time": "2020-08-04T07:37:54.125612Z",
     "start_time": "2020-08-04T07:37:54.121599Z"
    }
   },
   "outputs": [],
   "source": [
    "x = df_rfm['Total Pembayaran'].loc[13]"
   ]
  },
  {
   "cell_type": "code",
   "execution_count": 29,
   "metadata": {
    "ExecuteTime": {
     "end_time": "2020-08-04T07:37:54.132613Z",
     "start_time": "2020-08-04T07:37:54.127600Z"
    }
   },
   "outputs": [],
   "source": [
    "def applyInt(x):\n",
    "    return int(x.split()[1].split('.')[0] + x.split()[1].split('.')[1])"
   ]
  },
  {
   "cell_type": "code",
   "execution_count": 30,
   "metadata": {
    "ExecuteTime": {
     "end_time": "2020-08-04T07:37:54.142604Z",
     "start_time": "2020-08-04T07:37:54.134602Z"
    }
   },
   "outputs": [],
   "source": [
    "df_rfm['Total Pembayaran'] = df_rfm['Total Pembayaran'].apply(applyInt)"
   ]
  },
  {
   "cell_type": "code",
   "execution_count": 31,
   "metadata": {
    "ExecuteTime": {
     "end_time": "2020-08-04T07:37:54.149605Z",
     "start_time": "2020-08-04T07:37:54.144616Z"
    }
   },
   "outputs": [],
   "source": [
    "def applyInt2(x):\n",
    "    if x == 'Rp 0':\n",
    "        return 0 \n",
    "    else :\n",
    "        return int(x.split()[1].split('.')[0] + x.split()[1].split('.')[1])"
   ]
  },
  {
   "cell_type": "code",
   "execution_count": 32,
   "metadata": {
    "ExecuteTime": {
     "end_time": "2020-08-04T07:37:54.157608Z",
     "start_time": "2020-08-04T07:37:54.151618Z"
    },
    "scrolled": true
   },
   "outputs": [],
   "source": [
    "df_rfm['Ongkos Kirim Dibayar oleh Pembeli'] = df_rfm['Ongkos Kirim Dibayar oleh Pembeli'].apply(applyInt2)"
   ]
  },
  {
   "cell_type": "code",
   "execution_count": 33,
   "metadata": {
    "ExecuteTime": {
     "end_time": "2020-08-04T07:37:54.318644Z",
     "start_time": "2020-08-04T07:37:54.159607Z"
    }
   },
   "outputs": [],
   "source": [
    "from datetime import timedelta\n",
    "\n",
    "# Calcuation Monetary\n",
    "df_rfm['TotalSum'] = df_rfm['Total Pembayaran'] - df_rfm['Ongkos Kirim Dibayar oleh Pembeli'] - df_rfm['Potongan Koin Shopee']\n",
    "\n",
    "# Calculation Recency \n",
    "snapshot_date = df_rfm['Pesanan Dibuat'].max() + timedelta(days=1)\n",
    "\n",
    "# Grouping by CustomerID\n",
    "## and Calculation frequency \n",
    "df_rfm = df_rfm.groupby(['Username (Pembeli)']).agg({\n",
    "        'Pesanan Dibuat': lambda x: (snapshot_date - x.max()).days,\n",
    "        'No. Pesanan': 'count',\n",
    "        'TotalSum': 'sum'})\n",
    "\n",
    "# Rename the columns \n",
    "df_rfm.rename(columns={'Pesanan Dibuat': 'Terakhir_Pesan(Hari)',\n",
    "                         'No. Pesanan': 'Frekuensi_Pembelian',\n",
    "                         'TotalSum': 'Total_Belanja(Rupiah)'}, inplace=True)"
   ]
  },
  {
   "cell_type": "code",
   "execution_count": 36,
   "metadata": {
    "ExecuteTime": {
     "end_time": "2020-08-04T07:39:00.173498Z",
     "start_time": "2020-08-04T07:39:00.169497Z"
    }
   },
   "outputs": [],
   "source": [
    "df_final = df_rfm.sort_values(by='Frekuensi_Pembelian',ascending=False)"
   ]
  },
  {
   "cell_type": "code",
   "execution_count": 40,
   "metadata": {
    "ExecuteTime": {
     "end_time": "2020-08-04T07:39:46.705215Z",
     "start_time": "2020-08-04T07:39:46.504860Z"
    }
   },
   "outputs": [],
   "source": [
    "df_final.to_excel(\"Shopee_KOH.xlsx\")"
   ]
  },
  {
   "cell_type": "markdown",
   "metadata": {},
   "source": [
    "### Market Basket Analysis"
   ]
  },
  {
   "cell_type": "code",
   "execution_count": 33,
   "metadata": {
    "ExecuteTime": {
     "end_time": "2020-08-06T06:53:58.193130Z",
     "start_time": "2020-08-06T06:53:58.176118Z"
    }
   },
   "outputs": [],
   "source": [
    "df = pd.read_csv(\"Processing Data.csv\")"
   ]
  },
  {
   "cell_type": "code",
   "execution_count": 61,
   "metadata": {
    "ExecuteTime": {
     "end_time": "2020-08-06T07:03:29.594543Z",
     "start_time": "2020-08-06T07:03:29.586553Z"
    }
   },
   "outputs": [
    {
     "data": {
      "text/plain": [
       "0       False\n",
       "1       False\n",
       "2       False\n",
       "3       False\n",
       "4       False\n",
       "        ...  \n",
       "4641    False\n",
       "4642    False\n",
       "4643    False\n",
       "4644    False\n",
       "4645    False\n",
       "Name: Nama Variasi, Length: 4646, dtype: bool"
      ]
     },
     "execution_count": 61,
     "metadata": {},
     "output_type": "execute_result"
    }
   ],
   "source": [
    "df['Nama Variasi'].isna()"
   ]
  },
  {
   "cell_type": "code",
   "execution_count": 35,
   "metadata": {
    "ExecuteTime": {
     "end_time": "2020-08-06T06:54:00.501360Z",
     "start_time": "2020-08-06T06:54:00.496359Z"
    }
   },
   "outputs": [],
   "source": [
    "df['No. Pesanan'] = df['No. Pesanan'].fillna(method=\"ffill\")"
   ]
  },
  {
   "cell_type": "code",
   "execution_count": 36,
   "metadata": {
    "ExecuteTime": {
     "end_time": "2020-08-06T06:54:00.976319Z",
     "start_time": "2020-08-06T06:54:00.971304Z"
    }
   },
   "outputs": [],
   "source": [
    "df['Status Pesanan'] = df['Status Pesanan'].fillna(method=\"ffill\")"
   ]
  },
  {
   "cell_type": "code",
   "execution_count": 40,
   "metadata": {
    "ExecuteTime": {
     "end_time": "2020-08-06T06:57:57.554474Z",
     "start_time": "2020-08-06T06:57:57.547456Z"
    }
   },
   "outputs": [],
   "source": [
    "mba = df[df['Status Pesanan'] == 'Selesai'][['No. Pesanan', 'Nama Produk','Nama Variasi']]"
   ]
  },
  {
   "cell_type": "code",
   "execution_count": 52,
   "metadata": {
    "ExecuteTime": {
     "end_time": "2020-08-06T07:00:47.077970Z",
     "start_time": "2020-08-06T07:00:47.071969Z"
    }
   },
   "outputs": [],
   "source": [
    "produk = mba['Nama Produk'].values\n",
    "variasi = mba['Nama Variasi'].values\n",
    "\n",
    "final_produk = list(zip(produk,variasi))"
   ]
  },
  {
   "cell_type": "code",
   "execution_count": 55,
   "metadata": {
    "ExecuteTime": {
     "end_time": "2020-08-06T07:01:25.666744Z",
     "start_time": "2020-08-06T07:01:25.655742Z"
    }
   },
   "outputs": [
    {
     "ename": "TypeError",
     "evalue": "can only concatenate str (not \"float\") to str",
     "output_type": "error",
     "traceback": [
      "\u001b[1;31m---------------------------------------------------------------------------\u001b[0m",
      "\u001b[1;31mTypeError\u001b[0m                                 Traceback (most recent call last)",
      "\u001b[1;32m<ipython-input-55-5d6b641ad320>\u001b[0m in \u001b[0;36m<module>\u001b[1;34m\u001b[0m\n\u001b[0;32m      1\u001b[0m \u001b[0mitem\u001b[0m \u001b[1;33m=\u001b[0m \u001b[1;33m[\u001b[0m\u001b[1;33m]\u001b[0m\u001b[1;33m\u001b[0m\u001b[1;33m\u001b[0m\u001b[0m\n\u001b[0;32m      2\u001b[0m \u001b[1;32mfor\u001b[0m \u001b[0mkey\u001b[0m\u001b[1;33m,\u001b[0m\u001b[0mval\u001b[0m \u001b[1;32min\u001b[0m \u001b[0mfinal_produk\u001b[0m\u001b[1;33m:\u001b[0m\u001b[1;33m\u001b[0m\u001b[1;33m\u001b[0m\u001b[0m\n\u001b[1;32m----> 3\u001b[1;33m     \u001b[0mitem\u001b[0m\u001b[1;33m.\u001b[0m\u001b[0mappend\u001b[0m\u001b[1;33m(\u001b[0m\u001b[0mkey\u001b[0m \u001b[1;33m+\u001b[0m \u001b[0mval\u001b[0m\u001b[1;33m)\u001b[0m\u001b[1;33m\u001b[0m\u001b[1;33m\u001b[0m\u001b[0m\n\u001b[0m",
      "\u001b[1;31mTypeError\u001b[0m: can only concatenate str (not \"float\") to str"
     ]
    }
   ],
   "source": [
    "item = []\n",
    "for key,val in final_produk:\n",
    "    item.append(key + val)"
   ]
  },
  {
   "cell_type": "code",
   "execution_count": 56,
   "metadata": {
    "ExecuteTime": {
     "end_time": "2020-08-06T07:01:39.463978Z",
     "start_time": "2020-08-06T07:01:39.455965Z"
    }
   },
   "outputs": [
    {
     "name": "stdout",
     "output_type": "stream",
     "text": [
      "<class 'pandas.core.frame.DataFrame'>\n",
      "Int64Index: 4147 entries, 0 to 4645\n",
      "Data columns (total 3 columns):\n",
      " #   Column        Non-Null Count  Dtype \n",
      "---  ------        --------------  ----- \n",
      " 0   No. Pesanan   4147 non-null   object\n",
      " 1   Nama Produk   4147 non-null   object\n",
      " 2   Nama Variasi  3448 non-null   object\n",
      "dtypes: object(3)\n",
      "memory usage: 129.6+ KB\n"
     ]
    }
   ],
   "source": [
    "mba.info()"
   ]
  },
  {
   "cell_type": "code",
   "execution_count": 41,
   "metadata": {
    "ExecuteTime": {
     "end_time": "2020-08-06T06:58:08.442614Z",
     "start_time": "2020-08-06T06:58:08.431612Z"
    },
    "scrolled": true
   },
   "outputs": [
    {
     "data": {
      "text/html": [
       "<div>\n",
       "<style scoped>\n",
       "    .dataframe tbody tr th:only-of-type {\n",
       "        vertical-align: middle;\n",
       "    }\n",
       "\n",
       "    .dataframe tbody tr th {\n",
       "        vertical-align: top;\n",
       "    }\n",
       "\n",
       "    .dataframe thead th {\n",
       "        text-align: right;\n",
       "    }\n",
       "</style>\n",
       "<table border=\"1\" class=\"dataframe\">\n",
       "  <thead>\n",
       "    <tr style=\"text-align: right;\">\n",
       "      <th></th>\n",
       "      <th>No. Pesanan</th>\n",
       "      <th>Nama Produk</th>\n",
       "      <th>Nama Variasi</th>\n",
       "    </tr>\n",
       "  </thead>\n",
       "  <tbody>\n",
       "    <tr>\n",
       "      <th>5</th>\n",
       "      <td>200302RMDNAAYM</td>\n",
       "      <td>Giotto super</td>\n",
       "      <td>Merah,100ml</td>\n",
       "    </tr>\n",
       "    <tr>\n",
       "      <th>6</th>\n",
       "      <td>200302RMDNAAYM</td>\n",
       "      <td>Giotto super</td>\n",
       "      <td>Kuning,100ml</td>\n",
       "    </tr>\n",
       "    <tr>\n",
       "      <th>7</th>\n",
       "      <td>200302RMDNAAYM</td>\n",
       "      <td>Giotto super</td>\n",
       "      <td>Biru,100ml</td>\n",
       "    </tr>\n",
       "    <tr>\n",
       "      <th>8</th>\n",
       "      <td>200302RMDNAAYM</td>\n",
       "      <td>Giotto super</td>\n",
       "      <td>Hijau,100ml</td>\n",
       "    </tr>\n",
       "  </tbody>\n",
       "</table>\n",
       "</div>"
      ],
      "text/plain": [
       "      No. Pesanan   Nama Produk  Nama Variasi\n",
       "5  200302RMDNAAYM  Giotto super   Merah,100ml\n",
       "6  200302RMDNAAYM  Giotto super  Kuning,100ml\n",
       "7  200302RMDNAAYM  Giotto super    Biru,100ml\n",
       "8  200302RMDNAAYM  Giotto super   Hijau,100ml"
      ]
     },
     "execution_count": 41,
     "metadata": {},
     "output_type": "execute_result"
    }
   ],
   "source": [
    "mba[mba['No. Pesanan'] == \"200302RMDNAAYM\"]"
   ]
  },
  {
   "cell_type": "code",
   "execution_count": null,
   "metadata": {},
   "outputs": [],
   "source": []
  }
 ],
 "metadata": {
  "kernelspec": {
   "display_name": "Python 3",
   "language": "python",
   "name": "python3"
  },
  "language_info": {
   "codemirror_mode": {
    "name": "ipython",
    "version": 3
   },
   "file_extension": ".py",
   "mimetype": "text/x-python",
   "name": "python",
   "nbconvert_exporter": "python",
   "pygments_lexer": "ipython3",
   "version": "3.7.6"
  }
 },
 "nbformat": 4,
 "nbformat_minor": 2
}
